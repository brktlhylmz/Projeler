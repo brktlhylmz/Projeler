{
 "cells": [
  {
   "cell_type": "markdown",
   "metadata": {},
   "source": [
    "\n",
    "# ***<span style=\"color:#5DADE2;\">Veri Madenciliği Dönem Ödevi</span>***"
   ]
  },
  {
   "cell_type": "markdown",
   "metadata": {},
   "source": [
    "* ##### **<span style=\"color:#5DADE2;\">17/05/2022 Veri Madenciliği dersi - Dr. Öğr. Üyesi Caner ERDEN</span>**\n",
    "\n",
    "* ##### **<span style=\"color:#5DADE2;\">Burak Talha YILMAZ - G180102058</span>**\n",
    "* ##### **<span style=\"color:#5DADE2;\">Burak ÇALIŞKAN - G170102001</span>**\n",
    "* ##### **<span style=\"color:#5DADE2;\">Abdul Rahman KASEM - G180102555</span>**\n",
    "\n",
    "* ##### **<span style=\"color:#5DADE2;\">Dinlediğiniz için teşekkürler...</span>**"
   ]
  },
  {
   "cell_type": "markdown",
   "metadata": {},
   "source": [
    "* ## **<span style=\"color:#5DADE2;\">Konu:</span>**\n",
    "* ### **<span style=\"color:#5DADE2;\">Veri Setine Göre Suyun İçilip İçilememesi Üzerine Makine Öğrenmesi Uygulaması</span>**\n"
   ]
  },
  {
   "cell_type": "markdown",
   "metadata": {},
   "source": [
    "<img src=\"https://images.outlookindia.com/public/uploads/articles/2021/3/20/world-water-day-702x336.jpg\" width=\"70%\">"
   ]
  },
  {
   "cell_type": "markdown",
   "metadata": {},
   "source": [
    "## **<span style=\"color:#5DADE2;\">İÇİNDEKİLER</span>**\n",
    "* [**<span style=\"color:#5DADE2;\">1- Problemin Açıklanması</span>**](#span-id\"1\"-style\"color5dade2\"1--problemin-açıklanmasıspan)\n",
    "* [**<span style=\"color:#5DADE2;\">2- Veri Setinin Tanımlanması</span>**](#span-id\"2\"-style\"color5dade2\"2--veri-setinin-tanımlanmasıspan)\n",
    "* * [**<span style=\"color:#5DADE2;\">2.1- Kütüphanelerin Tanımlanması</span>**](#span-id\"21\"-style\"color5dade2\"21--kütüphanelerin-tanımlanmasıspan)\n",
    "<br/><br/>\n",
    "* * [**<span style=\"color:#5DADE2;\">2.2- Veri Setinin tanımlanması</span>**](#span-id\"22\"-style\"color5dade2\"22--veri-setinin-tanımlanmasıspan)\n",
    "<br/><br/>\n",
    "* [**<span style=\"color:#5DADE2;\">3- Veri Manipülasyonu</span>**](#span-id\"3\"-style\"color5dade2\"3--veri-manipülasyonuspan)\n",
    "* * [**<span style=\"color:#5DADE2;\">3.1- Aykırı Veri Tespiti ve İşleme</span>**](#span-id\"31\"-style\"color5dade2\"31--aykırı-veri-tespiti-ve-i̇şlemespan)\n",
    "<br/><br/>\n",
    "* * [**<span style=\"color:#5DADE2;\">3.2- Aykırı Verilerden Arınmış Veri Setinin Korelasyon tablosu</span>**](#span-id\"32\"-style\"color5dade2\"32--aykırı-verilerden-arınmış-veri-setinin-korelasyon-tablosuspan)\n",
    "<br/><br/>\n",
    "\n",
    "\n",
    "* [**<span style=\"color:#5DADE2;\">4- Karar Ağacı Yöntemiyle Makine Öğrenmesi Uygulaması</span>**](#span-id\"4\"-style\"color5dade2\"4--karar-ağacı-yöntemiyle-makine-öğrenmesi-uygulamasıspan)\n",
    "* * [**<span style=\"color:#5DADE2;\">4.1- Karar Ağacı Uygulaması ile Makine Öğrenmesi Sonuçları</span>**](#span-id\"41\"-style\"color5dade2\"41--karar-ağacı-uygulaması-ile-makine-öğrenmesi-sonuçlarıspan)\n"
   ]
  },
  {
   "cell_type": "markdown",
   "metadata": {},
   "source": [
    "## **<span id=\"1\" style=\"color:#5DADE2;\">1- Problemin Açıklanması</span>**"
   ]
  },
  {
   "cell_type": "markdown",
   "metadata": {},
   "source": [
    "\n",
    "* ##### **<span style=\"color:#F4D03F;\">Güvenli içme suyuna erişim, sağlık için esastır, temel bir insan hakkıdır ve sağlığın korunmasına yönelik etkili politikanın bir bileşenidir. Bu, ulusal, bölgesel ve yerel düzeyde bir sağlık ve kalkınma sorunu olarak önemlidir. Bazı bölgelerde, su temini ve sanitasyona yapılan yatırımların, olumsuz sağlık etkilerindeki ve sağlık bakım maliyetlerindeki azalmalar, müdahaleleri üstlenme maliyetlerinden daha ağır bastığı için net bir ekonomik fayda sağlayabileceği gösterilmiştir.</span>**"
   ]
  },
  {
   "cell_type": "markdown",
   "metadata": {},
   "source": [
    "* ### **<span style=\"color:#5DADE2;\">1.1- pH:</span>**"
   ]
  },
  {
   "cell_type": "markdown",
   "metadata": {},
   "source": [
    "    PH, suyun asit-baz dengesini değerlendirmede önemli bir parametredir. Aynı zamanda su durumunun asidik veya alkali durumunun göstergesidir. DSÖ, izin verilen maksimum pH sınırını 6,5 ila 8,5 arasında tavsiye etmiştir. Mevcut araştırma aralıkları, WHO standartları aralığında olan 6.52–6.83'tür."
   ]
  },
  {
   "cell_type": "markdown",
   "metadata": {},
   "source": [
    "* ### **<span style=\"color:#5DADE2;\">1.2- Sertlik(Hardness):</span>**"
   ]
  },
  {
   "cell_type": "markdown",
   "metadata": {},
   "source": [
    "    Sertlik esas olarak kalsiyum ve magnezyum tuzlarından kaynaklanır. Bu tuzlar, suyun içinden geçtiği jeolojik tortulardan çözülür. Suyun sertlik üreten malzeme ile temas ettiği süre, ham suda ne kadar sertlik olduğunu belirlemeye yardımcı olur. Sertlik başlangıçta suyun Kalsiyum ve Magnezyum tarafından oluşturulan sabunu çökeltme kapasitesi olarak tanımlanıyordu."
   ]
  },
  {
   "cell_type": "markdown",
   "metadata": {},
   "source": []
  },
  {
   "cell_type": "markdown",
   "metadata": {},
   "source": [
    "* ### **<span style=\"color:#5DADE2;\">1.3- Katılar (Solids):</span>**"
   ]
  },
  {
   "cell_type": "markdown",
   "metadata": {},
   "source": [
    "    Su, potasyum, kalsiyum, sodyum, bikarbonatlar, klorürler, magnezyum, sülfatlar vb. gibi çok çeşitli inorganik ve bazı organik mineralleri veya tuzları çözme yeteneğine sahiptir. Bu mineraller, suyun görünümünde istenmeyen tat ve seyreltik renk ürettiler. Bu, su kullanımı için önemli bir parametredir. TDS değeri yüksek olan su, suyun yüksek oranda mineralize olduğunu gösterir. TDS için istenilen limit 500 mg/l, maksimum limit ise içme amaçlı 1000 mg/l'dir."
   ]
  },
  {
   "cell_type": "markdown",
   "metadata": {},
   "source": [
    "* ### **<span style=\"color:#5DADE2;\">1.4- Kloraminler(Chloramines):</span>**"
   ]
  },
  {
   "cell_type": "markdown",
   "metadata": {},
   "source": [
    "    Klor ve kloramin, kamu su sistemlerinde kullanılan başlıca dezenfektanlardır. Kloraminler en yaygın olarak, içme suyunu arıtmak için klora amonyak eklendiğinde oluşur. Litre başına 4 miligrama kadar (mg/L veya milyonda 4 kısım (ppm)) klor seviyeleri içme suyunda güvenli kabul edilir."
   ]
  },
  {
   "cell_type": "markdown",
   "metadata": {},
   "source": [
    "* ### **<span style=\"color:#5DADE2;\">1.5- Sülfat(Sulfate):</span>**"
   ]
  },
  {
   "cell_type": "markdown",
   "metadata": {},
   "source": [
    "    Sülfatlar, minerallerde, toprakta ve kayalarda bulunan doğal olarak oluşan maddelerdir. Ortam havasında, yeraltı suyunda, bitkilerde ve yiyeceklerde bulunurlar. Sülfatın başlıca ticari kullanımı kimya endüstrisindedir. Deniz suyundaki sülfat konsantrasyonu litre başına yaklaşık 2.700 miligramdır (mg/L). Bazı coğrafi bölgelerde çok daha yüksek konsantrasyonlar (1000 mg/L) bulunmasına rağmen, çoğu tatlı su kaynağında 3 ila 30 mg/L arasında değişir."
   ]
  },
  {
   "cell_type": "markdown",
   "metadata": {},
   "source": [
    "* ### **<span style=\"color:#5DADE2;\">1.6- İletkenlik(Conductivity):</span>**"
   ]
  },
  {
   "cell_type": "markdown",
   "metadata": {},
   "source": [
    "    Saf su, iyi bir elektrik akımı iletkeni değil, iyi bir yalıtkandır. İyon konsantrasyonundaki artış suyun elektriksel iletkenliğini artırır. Genel olarak, sudaki çözünmüş katıların miktarı elektriksel iletkenliği belirler. Elektriksel iletkenlik (EC), aslında akımı iletmesini sağlayan bir çözümün iyonik sürecini ölçer. WHO standartlarına göre EC değeri 400 μS/cm'yi geçmemelidir."
   ]
  },
  {
   "cell_type": "markdown",
   "metadata": {},
   "source": [
    "* ### **<span style=\"color:#5DADE2;\">1.7- Organik Karbon(Organic_Carbon):</span>**"
   ]
  },
  {
   "cell_type": "markdown",
   "metadata": {},
   "source": [
    "    Kaynak sularındaki Toplam Organik Karbon (TOC), sentetik kaynakların yanı sıra çürüyen doğal organik maddelerden (NOM) gelir. TOC, saf sudaki organik bileşiklerdeki toplam karbon miktarının bir ölçüsüdür. US EPA'ya göre TOC olarak arıtılmış / içme suyunda < 2 mg/L ve arıtma için kullanılan kaynak suyunda < 4 mg/Lit."
   ]
  },
  {
   "cell_type": "markdown",
   "metadata": {},
   "source": [
    "* ### **<span style=\"color:#5DADE2;\">1.8- Trihalometanlar(Trihalomethanes):</span>**"
   ]
  },
  {
   "cell_type": "markdown",
   "metadata": {},
   "source": [
    "    THM'ler, klor ile işlenmiş suda bulunabilen kimyasallardır. İçme suyundaki THM konsantrasyonu, sudaki organik madde düzeyine, suyu arıtmak için gereken klor miktarına ve arıtılan suyun sıcaklığına göre değişir. 80 ppm'ye kadar THM seviyeleri içme suyunda güvenli kabul edilir."
   ]
  },
  {
   "cell_type": "markdown",
   "metadata": {},
   "source": [
    "* ### **<span style=\"color:#5DADE2;\">1.9- Bulanıklık(Turbidity):</span>**"
   ]
  },
  {
   "cell_type": "markdown",
   "metadata": {},
   "source": [
    "    Suyun bulanıklığı, askıda halde bulunan katı madde miktarına bağlıdır. Suyun ışık yayma özelliklerinin bir ölçüsüdür ve test, kolloidal maddeye göre atık deşarjının kalitesini belirtmek için kullanılır. Wondo Genet Kampüsü (0.98 NTU) için elde edilen ortalama bulanıklık değeri, WHO tarafından tavsiye edilen 5.00 NTU değerinden düşüktür."
   ]
  },
  {
   "cell_type": "markdown",
   "metadata": {},
   "source": [
    "* ### **<span style=\"color:#5DADE2;\">1.10- İçilebilirlik(Potability):</span>**"
   ]
  },
  {
   "cell_type": "markdown",
   "metadata": {},
   "source": [
    "    Suyun insan tüketimi için güvenli olup olmadığını gösterir; burada 1 İçilebilir ve 0 İçilmez anlamına gelir.\n",
    "<br><br>"
   ]
  },
  {
   "cell_type": "markdown",
   "metadata": {},
   "source": [
    "- Veri Seti Kaynak: https://www.kaggle.com/datasets/adityakadiwal/water-potability\n",
    "- Görsel Kaynak: https://images.outlookindia.com/public/uploads/articles/2021/3/20/world-water-day-702x336.jpg"
   ]
  },
  {
   "cell_type": "markdown",
   "metadata": {},
   "source": []
  },
  {
   "cell_type": "markdown",
   "metadata": {},
   "source": [
    "\n",
    "## **<span id=\"2\" style=\"color:#5DADE2;\">2- Veri Setinin Tanımlanması</span>**"
   ]
  },
  {
   "cell_type": "markdown",
   "metadata": {},
   "source": []
  },
  {
   "cell_type": "markdown",
   "metadata": {},
   "source": [
    "\n",
    "\n",
    "* ### **<span id=\"2.1\" style=\"color:#5DADE2;\">2.1- Kütüphanelerin tanımlanması</span>**"
   ]
  },
  {
   "cell_type": "markdown",
   "metadata": {},
   "source": []
  },
  {
   "cell_type": "code",
   "execution_count": 1,
   "metadata": {},
   "outputs": [],
   "source": [
    "import pandas as pd\n",
    "import numpy as np\n",
    "import matplotlib.pyplot as plt\n",
    "import seaborn as sns"
   ]
  },
  {
   "cell_type": "markdown",
   "metadata": {},
   "source": []
  },
  {
   "cell_type": "markdown",
   "metadata": {},
   "source": [
    "* ### **<span id=\"2.2\" style=\"color:#5DADE2;\">2.2- Veri Setinin tanımlanması</span>**"
   ]
  },
  {
   "cell_type": "markdown",
   "metadata": {},
   "source": []
  },
  {
   "cell_type": "code",
   "execution_count": 2,
   "metadata": {},
   "outputs": [
    {
     "data": {
      "text/html": [
       "<div>\n",
       "<style scoped>\n",
       "    .dataframe tbody tr th:only-of-type {\n",
       "        vertical-align: middle;\n",
       "    }\n",
       "\n",
       "    .dataframe tbody tr th {\n",
       "        vertical-align: top;\n",
       "    }\n",
       "\n",
       "    .dataframe thead th {\n",
       "        text-align: right;\n",
       "    }\n",
       "</style>\n",
       "<table border=\"1\" class=\"dataframe\">\n",
       "  <thead>\n",
       "    <tr style=\"text-align: right;\">\n",
       "      <th></th>\n",
       "      <th>ph</th>\n",
       "      <th>Hardness</th>\n",
       "      <th>Solids</th>\n",
       "      <th>Chloramines</th>\n",
       "      <th>Sulfate</th>\n",
       "      <th>Conductivity</th>\n",
       "      <th>Organic_carbon</th>\n",
       "      <th>Trihalomethanes</th>\n",
       "      <th>Turbidity</th>\n",
       "      <th>Potability</th>\n",
       "    </tr>\n",
       "  </thead>\n",
       "  <tbody>\n",
       "    <tr>\n",
       "      <th>0</th>\n",
       "      <td>NaN</td>\n",
       "      <td>204.890455</td>\n",
       "      <td>20791.318981</td>\n",
       "      <td>7.300212</td>\n",
       "      <td>368.516441</td>\n",
       "      <td>564.308654</td>\n",
       "      <td>10.379783</td>\n",
       "      <td>86.990970</td>\n",
       "      <td>2.963135</td>\n",
       "      <td>0</td>\n",
       "    </tr>\n",
       "    <tr>\n",
       "      <th>1</th>\n",
       "      <td>3.716080</td>\n",
       "      <td>129.422921</td>\n",
       "      <td>18630.057858</td>\n",
       "      <td>6.635246</td>\n",
       "      <td>NaN</td>\n",
       "      <td>592.885359</td>\n",
       "      <td>15.180013</td>\n",
       "      <td>56.329076</td>\n",
       "      <td>4.500656</td>\n",
       "      <td>0</td>\n",
       "    </tr>\n",
       "    <tr>\n",
       "      <th>2</th>\n",
       "      <td>8.099124</td>\n",
       "      <td>224.236259</td>\n",
       "      <td>19909.541732</td>\n",
       "      <td>9.275884</td>\n",
       "      <td>NaN</td>\n",
       "      <td>418.606213</td>\n",
       "      <td>16.868637</td>\n",
       "      <td>66.420093</td>\n",
       "      <td>3.055934</td>\n",
       "      <td>0</td>\n",
       "    </tr>\n",
       "    <tr>\n",
       "      <th>3</th>\n",
       "      <td>8.316766</td>\n",
       "      <td>214.373394</td>\n",
       "      <td>22018.417441</td>\n",
       "      <td>8.059332</td>\n",
       "      <td>356.886136</td>\n",
       "      <td>363.266516</td>\n",
       "      <td>18.436524</td>\n",
       "      <td>100.341674</td>\n",
       "      <td>4.628771</td>\n",
       "      <td>0</td>\n",
       "    </tr>\n",
       "    <tr>\n",
       "      <th>4</th>\n",
       "      <td>9.092223</td>\n",
       "      <td>181.101509</td>\n",
       "      <td>17978.986339</td>\n",
       "      <td>6.546600</td>\n",
       "      <td>310.135738</td>\n",
       "      <td>398.410813</td>\n",
       "      <td>11.558279</td>\n",
       "      <td>31.997993</td>\n",
       "      <td>4.075075</td>\n",
       "      <td>0</td>\n",
       "    </tr>\n",
       "    <tr>\n",
       "      <th>...</th>\n",
       "      <td>...</td>\n",
       "      <td>...</td>\n",
       "      <td>...</td>\n",
       "      <td>...</td>\n",
       "      <td>...</td>\n",
       "      <td>...</td>\n",
       "      <td>...</td>\n",
       "      <td>...</td>\n",
       "      <td>...</td>\n",
       "      <td>...</td>\n",
       "    </tr>\n",
       "    <tr>\n",
       "      <th>3271</th>\n",
       "      <td>4.668102</td>\n",
       "      <td>193.681735</td>\n",
       "      <td>47580.991603</td>\n",
       "      <td>7.166639</td>\n",
       "      <td>359.948574</td>\n",
       "      <td>526.424171</td>\n",
       "      <td>13.894419</td>\n",
       "      <td>66.687695</td>\n",
       "      <td>4.435821</td>\n",
       "      <td>1</td>\n",
       "    </tr>\n",
       "    <tr>\n",
       "      <th>3272</th>\n",
       "      <td>7.808856</td>\n",
       "      <td>193.553212</td>\n",
       "      <td>17329.802160</td>\n",
       "      <td>8.061362</td>\n",
       "      <td>NaN</td>\n",
       "      <td>392.449580</td>\n",
       "      <td>19.903225</td>\n",
       "      <td>NaN</td>\n",
       "      <td>2.798243</td>\n",
       "      <td>1</td>\n",
       "    </tr>\n",
       "    <tr>\n",
       "      <th>3273</th>\n",
       "      <td>9.419510</td>\n",
       "      <td>175.762646</td>\n",
       "      <td>33155.578218</td>\n",
       "      <td>7.350233</td>\n",
       "      <td>NaN</td>\n",
       "      <td>432.044783</td>\n",
       "      <td>11.039070</td>\n",
       "      <td>69.845400</td>\n",
       "      <td>3.298875</td>\n",
       "      <td>1</td>\n",
       "    </tr>\n",
       "    <tr>\n",
       "      <th>3274</th>\n",
       "      <td>5.126763</td>\n",
       "      <td>230.603758</td>\n",
       "      <td>11983.869376</td>\n",
       "      <td>6.303357</td>\n",
       "      <td>NaN</td>\n",
       "      <td>402.883113</td>\n",
       "      <td>11.168946</td>\n",
       "      <td>77.488213</td>\n",
       "      <td>4.708658</td>\n",
       "      <td>1</td>\n",
       "    </tr>\n",
       "    <tr>\n",
       "      <th>3275</th>\n",
       "      <td>7.874671</td>\n",
       "      <td>195.102299</td>\n",
       "      <td>17404.177061</td>\n",
       "      <td>7.509306</td>\n",
       "      <td>NaN</td>\n",
       "      <td>327.459760</td>\n",
       "      <td>16.140368</td>\n",
       "      <td>78.698446</td>\n",
       "      <td>2.309149</td>\n",
       "      <td>1</td>\n",
       "    </tr>\n",
       "  </tbody>\n",
       "</table>\n",
       "<p>3276 rows × 10 columns</p>\n",
       "</div>"
      ],
      "text/plain": [
       "            ph    Hardness        Solids  Chloramines     Sulfate  \\\n",
       "0          NaN  204.890455  20791.318981     7.300212  368.516441   \n",
       "1     3.716080  129.422921  18630.057858     6.635246         NaN   \n",
       "2     8.099124  224.236259  19909.541732     9.275884         NaN   \n",
       "3     8.316766  214.373394  22018.417441     8.059332  356.886136   \n",
       "4     9.092223  181.101509  17978.986339     6.546600  310.135738   \n",
       "...        ...         ...           ...          ...         ...   \n",
       "3271  4.668102  193.681735  47580.991603     7.166639  359.948574   \n",
       "3272  7.808856  193.553212  17329.802160     8.061362         NaN   \n",
       "3273  9.419510  175.762646  33155.578218     7.350233         NaN   \n",
       "3274  5.126763  230.603758  11983.869376     6.303357         NaN   \n",
       "3275  7.874671  195.102299  17404.177061     7.509306         NaN   \n",
       "\n",
       "      Conductivity  Organic_carbon  Trihalomethanes  Turbidity  Potability  \n",
       "0       564.308654       10.379783        86.990970   2.963135           0  \n",
       "1       592.885359       15.180013        56.329076   4.500656           0  \n",
       "2       418.606213       16.868637        66.420093   3.055934           0  \n",
       "3       363.266516       18.436524       100.341674   4.628771           0  \n",
       "4       398.410813       11.558279        31.997993   4.075075           0  \n",
       "...            ...             ...              ...        ...         ...  \n",
       "3271    526.424171       13.894419        66.687695   4.435821           1  \n",
       "3272    392.449580       19.903225              NaN   2.798243           1  \n",
       "3273    432.044783       11.039070        69.845400   3.298875           1  \n",
       "3274    402.883113       11.168946        77.488213   4.708658           1  \n",
       "3275    327.459760       16.140368        78.698446   2.309149           1  \n",
       "\n",
       "[3276 rows x 10 columns]"
      ]
     },
     "execution_count": 2,
     "metadata": {},
     "output_type": "execute_result"
    }
   ],
   "source": [
    "df=pd.read_csv(\"water_potability.csv\")\n",
    "df"
   ]
  },
  {
   "cell_type": "code",
   "execution_count": 3,
   "metadata": {},
   "outputs": [
    {
     "name": "stdout",
     "output_type": "stream",
     "text": [
      "<class 'pandas.core.frame.DataFrame'>\n",
      "RangeIndex: 3276 entries, 0 to 3275\n",
      "Data columns (total 10 columns):\n",
      " #   Column           Non-Null Count  Dtype  \n",
      "---  ------           --------------  -----  \n",
      " 0   ph               2785 non-null   float64\n",
      " 1   Hardness         3276 non-null   float64\n",
      " 2   Solids           3276 non-null   float64\n",
      " 3   Chloramines      3276 non-null   float64\n",
      " 4   Sulfate          2495 non-null   float64\n",
      " 5   Conductivity     3276 non-null   float64\n",
      " 6   Organic_carbon   3276 non-null   float64\n",
      " 7   Trihalomethanes  3114 non-null   float64\n",
      " 8   Turbidity        3276 non-null   float64\n",
      " 9   Potability       3276 non-null   int64  \n",
      "dtypes: float64(9), int64(1)\n",
      "memory usage: 256.1 KB\n"
     ]
    }
   ],
   "source": [
    "# Veri seti hakkında temel bilgileri öğrenmek için\n",
    "df.info()\n"
   ]
  },
  {
   "cell_type": "code",
   "execution_count": 4,
   "metadata": {},
   "outputs": [
    {
     "name": "stdout",
     "output_type": "stream",
     "text": [
      "Veri Sayısı: 3276\n",
      "Özellik Sayısı: 10\n"
     ]
    }
   ],
   "source": [
    "print(\"Veri Sayısı: {}\\nÖzellik Sayısı: {}\".format(df.shape[0],df.shape[1]))"
   ]
  },
  {
   "cell_type": "markdown",
   "metadata": {},
   "source": []
  },
  {
   "cell_type": "markdown",
   "metadata": {},
   "source": [
    "* ## **<span id=\"3\" style=\"color:#5DADE2;\">3- Veri Manipülasyonu</span>**\n",
    "   * ##### **<span style=\"color:#F4D03F;\">Eksik ve aykırı verilerin temizliği için veri manipülasyonu yöntemlerini kullandık.</span>**"
   ]
  },
  {
   "cell_type": "markdown",
   "metadata": {},
   "source": []
  },
  {
   "cell_type": "code",
   "execution_count": 5,
   "metadata": {},
   "outputs": [
    {
     "data": {
      "text/html": [
       "<div>\n",
       "<style scoped>\n",
       "    .dataframe tbody tr th:only-of-type {\n",
       "        vertical-align: middle;\n",
       "    }\n",
       "\n",
       "    .dataframe tbody tr th {\n",
       "        vertical-align: top;\n",
       "    }\n",
       "\n",
       "    .dataframe thead th {\n",
       "        text-align: right;\n",
       "    }\n",
       "</style>\n",
       "<table border=\"1\" class=\"dataframe\">\n",
       "  <thead>\n",
       "    <tr style=\"text-align: right;\">\n",
       "      <th></th>\n",
       "      <th>ph</th>\n",
       "      <th>Hardness</th>\n",
       "      <th>Solids</th>\n",
       "      <th>Chloramines</th>\n",
       "      <th>Sulfate</th>\n",
       "      <th>Conductivity</th>\n",
       "      <th>Organic_carbon</th>\n",
       "      <th>Trihalomethanes</th>\n",
       "      <th>Turbidity</th>\n",
       "      <th>Potability</th>\n",
       "    </tr>\n",
       "  </thead>\n",
       "  <tbody>\n",
       "    <tr>\n",
       "      <th>count</th>\n",
       "      <td>2785.000000</td>\n",
       "      <td>3276.000000</td>\n",
       "      <td>3276.000000</td>\n",
       "      <td>3276.000000</td>\n",
       "      <td>2495.000000</td>\n",
       "      <td>3276.000000</td>\n",
       "      <td>3276.000000</td>\n",
       "      <td>3114.000000</td>\n",
       "      <td>3276.000000</td>\n",
       "      <td>3276.000000</td>\n",
       "    </tr>\n",
       "    <tr>\n",
       "      <th>mean</th>\n",
       "      <td>7.080795</td>\n",
       "      <td>196.369496</td>\n",
       "      <td>22014.092526</td>\n",
       "      <td>7.122277</td>\n",
       "      <td>333.775777</td>\n",
       "      <td>426.205111</td>\n",
       "      <td>14.284970</td>\n",
       "      <td>66.396293</td>\n",
       "      <td>3.966786</td>\n",
       "      <td>0.390110</td>\n",
       "    </tr>\n",
       "    <tr>\n",
       "      <th>std</th>\n",
       "      <td>1.594320</td>\n",
       "      <td>32.879761</td>\n",
       "      <td>8768.570828</td>\n",
       "      <td>1.583085</td>\n",
       "      <td>41.416840</td>\n",
       "      <td>80.824064</td>\n",
       "      <td>3.308162</td>\n",
       "      <td>16.175008</td>\n",
       "      <td>0.780382</td>\n",
       "      <td>0.487849</td>\n",
       "    </tr>\n",
       "    <tr>\n",
       "      <th>min</th>\n",
       "      <td>0.000000</td>\n",
       "      <td>47.432000</td>\n",
       "      <td>320.942611</td>\n",
       "      <td>0.352000</td>\n",
       "      <td>129.000000</td>\n",
       "      <td>181.483754</td>\n",
       "      <td>2.200000</td>\n",
       "      <td>0.738000</td>\n",
       "      <td>1.450000</td>\n",
       "      <td>0.000000</td>\n",
       "    </tr>\n",
       "    <tr>\n",
       "      <th>25%</th>\n",
       "      <td>6.093092</td>\n",
       "      <td>176.850538</td>\n",
       "      <td>15666.690297</td>\n",
       "      <td>6.127421</td>\n",
       "      <td>307.699498</td>\n",
       "      <td>365.734414</td>\n",
       "      <td>12.065801</td>\n",
       "      <td>55.844536</td>\n",
       "      <td>3.439711</td>\n",
       "      <td>0.000000</td>\n",
       "    </tr>\n",
       "    <tr>\n",
       "      <th>50%</th>\n",
       "      <td>7.036752</td>\n",
       "      <td>196.967627</td>\n",
       "      <td>20927.833607</td>\n",
       "      <td>7.130299</td>\n",
       "      <td>333.073546</td>\n",
       "      <td>421.884968</td>\n",
       "      <td>14.218338</td>\n",
       "      <td>66.622485</td>\n",
       "      <td>3.955028</td>\n",
       "      <td>0.000000</td>\n",
       "    </tr>\n",
       "    <tr>\n",
       "      <th>75%</th>\n",
       "      <td>8.062066</td>\n",
       "      <td>216.667456</td>\n",
       "      <td>27332.762127</td>\n",
       "      <td>8.114887</td>\n",
       "      <td>359.950170</td>\n",
       "      <td>481.792304</td>\n",
       "      <td>16.557652</td>\n",
       "      <td>77.337473</td>\n",
       "      <td>4.500320</td>\n",
       "      <td>1.000000</td>\n",
       "    </tr>\n",
       "    <tr>\n",
       "      <th>max</th>\n",
       "      <td>14.000000</td>\n",
       "      <td>323.124000</td>\n",
       "      <td>61227.196008</td>\n",
       "      <td>13.127000</td>\n",
       "      <td>481.030642</td>\n",
       "      <td>753.342620</td>\n",
       "      <td>28.300000</td>\n",
       "      <td>124.000000</td>\n",
       "      <td>6.739000</td>\n",
       "      <td>1.000000</td>\n",
       "    </tr>\n",
       "  </tbody>\n",
       "</table>\n",
       "</div>"
      ],
      "text/plain": [
       "                ph     Hardness        Solids  Chloramines      Sulfate  \\\n",
       "count  2785.000000  3276.000000   3276.000000  3276.000000  2495.000000   \n",
       "mean      7.080795   196.369496  22014.092526     7.122277   333.775777   \n",
       "std       1.594320    32.879761   8768.570828     1.583085    41.416840   \n",
       "min       0.000000    47.432000    320.942611     0.352000   129.000000   \n",
       "25%       6.093092   176.850538  15666.690297     6.127421   307.699498   \n",
       "50%       7.036752   196.967627  20927.833607     7.130299   333.073546   \n",
       "75%       8.062066   216.667456  27332.762127     8.114887   359.950170   \n",
       "max      14.000000   323.124000  61227.196008    13.127000   481.030642   \n",
       "\n",
       "       Conductivity  Organic_carbon  Trihalomethanes    Turbidity   Potability  \n",
       "count   3276.000000     3276.000000      3114.000000  3276.000000  3276.000000  \n",
       "mean     426.205111       14.284970        66.396293     3.966786     0.390110  \n",
       "std       80.824064        3.308162        16.175008     0.780382     0.487849  \n",
       "min      181.483754        2.200000         0.738000     1.450000     0.000000  \n",
       "25%      365.734414       12.065801        55.844536     3.439711     0.000000  \n",
       "50%      421.884968       14.218338        66.622485     3.955028     0.000000  \n",
       "75%      481.792304       16.557652        77.337473     4.500320     1.000000  \n",
       "max      753.342620       28.300000       124.000000     6.739000     1.000000  "
      ]
     },
     "execution_count": 5,
     "metadata": {},
     "output_type": "execute_result"
    }
   ],
   "source": [
    "## EKSİK VERİLER VAR İKEN, Veri setinin istatistiksel bilgilerini ve genel yapısını görebilmek için :\n",
    "\n",
    "df.describe()"
   ]
  },
  {
   "cell_type": "code",
   "execution_count": 6,
   "metadata": {},
   "outputs": [
    {
     "data": {
      "text/plain": [
       "ph                 491\n",
       "Hardness             0\n",
       "Solids               0\n",
       "Chloramines          0\n",
       "Sulfate            781\n",
       "Conductivity         0\n",
       "Organic_carbon       0\n",
       "Trihalomethanes    162\n",
       "Turbidity            0\n",
       "Potability           0\n",
       "dtype: int64"
      ]
     },
     "execution_count": 6,
     "metadata": {},
     "output_type": "execute_result"
    }
   ],
   "source": [
    "#Eksik veri içeren sütunları bulduk ve toplam kaç adet eksik veri var inceledik.\n",
    "df.isna().sum()"
   ]
  },
  {
   "cell_type": "markdown",
   "metadata": {},
   "source": []
  },
  {
   "cell_type": "code",
   "execution_count": 7,
   "metadata": {},
   "outputs": [
    {
     "name": "stdout",
     "output_type": "stream",
     "text": [
      "pH Ortalaması: 7.080794504276821\n",
      "Sülfat Ortalaması: 333.77577661081335\n",
      "Trihalometan Ortalaması: 66.39629294676803\n"
     ]
    }
   ],
   "source": [
    "#Eksik veri bulunan sütunların ortalamalarını aldık.\n",
    "ph = df[\"ph\"].mean()\n",
    "sulfate = df[\"Sulfate\"].mean()\n",
    "trihalo = df[\"Trihalomethanes\"].mean()\n",
    "print(\"pH Ortalaması: {}\\nSülfat Ortalaması: {}\\nTrihalometan Ortalaması: {}\".format(ph,sulfate,trihalo))"
   ]
  },
  {
   "cell_type": "code",
   "execution_count": 8,
   "metadata": {},
   "outputs": [],
   "source": [
    "#Eksik verileri sütun ortalamasıyla değiştirdik.\n",
    "df[\"ph\"]=df[\"ph\"].fillna(ph)\n",
    "df[\"Sulfate\"] = df[\"Sulfate\"].fillna(sulfate)\n",
    "df[\"Trihalomethanes\"] = df[\"Trihalomethanes\"].fillna(trihalo)"
   ]
  },
  {
   "cell_type": "code",
   "execution_count": 9,
   "metadata": {},
   "outputs": [
    {
     "data": {
      "text/plain": [
       "ph                 0\n",
       "Hardness           0\n",
       "Solids             0\n",
       "Chloramines        0\n",
       "Sulfate            0\n",
       "Conductivity       0\n",
       "Organic_carbon     0\n",
       "Trihalomethanes    0\n",
       "Turbidity          0\n",
       "Potability         0\n",
       "dtype: int64"
      ]
     },
     "execution_count": 9,
     "metadata": {},
     "output_type": "execute_result"
    }
   ],
   "source": [
    "#Eksik veri kontrolü\n",
    "df.isna().sum()"
   ]
  },
  {
   "cell_type": "code",
   "execution_count": 10,
   "metadata": {},
   "outputs": [
    {
     "data": {
      "text/html": [
       "<div>\n",
       "<style scoped>\n",
       "    .dataframe tbody tr th:only-of-type {\n",
       "        vertical-align: middle;\n",
       "    }\n",
       "\n",
       "    .dataframe tbody tr th {\n",
       "        vertical-align: top;\n",
       "    }\n",
       "\n",
       "    .dataframe thead th {\n",
       "        text-align: right;\n",
       "    }\n",
       "</style>\n",
       "<table border=\"1\" class=\"dataframe\">\n",
       "  <thead>\n",
       "    <tr style=\"text-align: right;\">\n",
       "      <th></th>\n",
       "      <th>ph</th>\n",
       "      <th>Hardness</th>\n",
       "      <th>Solids</th>\n",
       "      <th>Chloramines</th>\n",
       "      <th>Sulfate</th>\n",
       "      <th>Conductivity</th>\n",
       "      <th>Organic_carbon</th>\n",
       "      <th>Trihalomethanes</th>\n",
       "      <th>Turbidity</th>\n",
       "      <th>Potability</th>\n",
       "    </tr>\n",
       "  </thead>\n",
       "  <tbody>\n",
       "    <tr>\n",
       "      <th>count</th>\n",
       "      <td>3276.000000</td>\n",
       "      <td>3276.000000</td>\n",
       "      <td>3276.000000</td>\n",
       "      <td>3276.000000</td>\n",
       "      <td>3276.000000</td>\n",
       "      <td>3276.000000</td>\n",
       "      <td>3276.000000</td>\n",
       "      <td>3276.000000</td>\n",
       "      <td>3276.000000</td>\n",
       "      <td>3276.000000</td>\n",
       "    </tr>\n",
       "    <tr>\n",
       "      <th>mean</th>\n",
       "      <td>7.080795</td>\n",
       "      <td>196.369496</td>\n",
       "      <td>22014.092526</td>\n",
       "      <td>7.122277</td>\n",
       "      <td>333.775777</td>\n",
       "      <td>426.205111</td>\n",
       "      <td>14.284970</td>\n",
       "      <td>66.396293</td>\n",
       "      <td>3.966786</td>\n",
       "      <td>0.390110</td>\n",
       "    </tr>\n",
       "    <tr>\n",
       "      <th>std</th>\n",
       "      <td>1.469956</td>\n",
       "      <td>32.879761</td>\n",
       "      <td>8768.570828</td>\n",
       "      <td>1.583085</td>\n",
       "      <td>36.142612</td>\n",
       "      <td>80.824064</td>\n",
       "      <td>3.308162</td>\n",
       "      <td>15.769881</td>\n",
       "      <td>0.780382</td>\n",
       "      <td>0.487849</td>\n",
       "    </tr>\n",
       "    <tr>\n",
       "      <th>min</th>\n",
       "      <td>0.000000</td>\n",
       "      <td>47.432000</td>\n",
       "      <td>320.942611</td>\n",
       "      <td>0.352000</td>\n",
       "      <td>129.000000</td>\n",
       "      <td>181.483754</td>\n",
       "      <td>2.200000</td>\n",
       "      <td>0.738000</td>\n",
       "      <td>1.450000</td>\n",
       "      <td>0.000000</td>\n",
       "    </tr>\n",
       "    <tr>\n",
       "      <th>25%</th>\n",
       "      <td>6.277673</td>\n",
       "      <td>176.850538</td>\n",
       "      <td>15666.690297</td>\n",
       "      <td>6.127421</td>\n",
       "      <td>317.094638</td>\n",
       "      <td>365.734414</td>\n",
       "      <td>12.065801</td>\n",
       "      <td>56.647656</td>\n",
       "      <td>3.439711</td>\n",
       "      <td>0.000000</td>\n",
       "    </tr>\n",
       "    <tr>\n",
       "      <th>50%</th>\n",
       "      <td>7.080795</td>\n",
       "      <td>196.967627</td>\n",
       "      <td>20927.833607</td>\n",
       "      <td>7.130299</td>\n",
       "      <td>333.775777</td>\n",
       "      <td>421.884968</td>\n",
       "      <td>14.218338</td>\n",
       "      <td>66.396293</td>\n",
       "      <td>3.955028</td>\n",
       "      <td>0.000000</td>\n",
       "    </tr>\n",
       "    <tr>\n",
       "      <th>75%</th>\n",
       "      <td>7.870050</td>\n",
       "      <td>216.667456</td>\n",
       "      <td>27332.762127</td>\n",
       "      <td>8.114887</td>\n",
       "      <td>350.385756</td>\n",
       "      <td>481.792304</td>\n",
       "      <td>16.557652</td>\n",
       "      <td>76.666609</td>\n",
       "      <td>4.500320</td>\n",
       "      <td>1.000000</td>\n",
       "    </tr>\n",
       "    <tr>\n",
       "      <th>max</th>\n",
       "      <td>14.000000</td>\n",
       "      <td>323.124000</td>\n",
       "      <td>61227.196008</td>\n",
       "      <td>13.127000</td>\n",
       "      <td>481.030642</td>\n",
       "      <td>753.342620</td>\n",
       "      <td>28.300000</td>\n",
       "      <td>124.000000</td>\n",
       "      <td>6.739000</td>\n",
       "      <td>1.000000</td>\n",
       "    </tr>\n",
       "  </tbody>\n",
       "</table>\n",
       "</div>"
      ],
      "text/plain": [
       "                ph     Hardness        Solids  Chloramines      Sulfate  \\\n",
       "count  3276.000000  3276.000000   3276.000000  3276.000000  3276.000000   \n",
       "mean      7.080795   196.369496  22014.092526     7.122277   333.775777   \n",
       "std       1.469956    32.879761   8768.570828     1.583085    36.142612   \n",
       "min       0.000000    47.432000    320.942611     0.352000   129.000000   \n",
       "25%       6.277673   176.850538  15666.690297     6.127421   317.094638   \n",
       "50%       7.080795   196.967627  20927.833607     7.130299   333.775777   \n",
       "75%       7.870050   216.667456  27332.762127     8.114887   350.385756   \n",
       "max      14.000000   323.124000  61227.196008    13.127000   481.030642   \n",
       "\n",
       "       Conductivity  Organic_carbon  Trihalomethanes    Turbidity   Potability  \n",
       "count   3276.000000     3276.000000      3276.000000  3276.000000  3276.000000  \n",
       "mean     426.205111       14.284970        66.396293     3.966786     0.390110  \n",
       "std       80.824064        3.308162        15.769881     0.780382     0.487849  \n",
       "min      181.483754        2.200000         0.738000     1.450000     0.000000  \n",
       "25%      365.734414       12.065801        56.647656     3.439711     0.000000  \n",
       "50%      421.884968       14.218338        66.396293     3.955028     0.000000  \n",
       "75%      481.792304       16.557652        76.666609     4.500320     1.000000  \n",
       "max      753.342620       28.300000       124.000000     6.739000     1.000000  "
      ]
     },
     "execution_count": 10,
     "metadata": {},
     "output_type": "execute_result"
    }
   ],
   "source": [
    "## EKSİK VERİLER YOK İKEN, Veri setinin istatistiksel bilgilerini ve genel yapısını görebilmek için :\n",
    "\n",
    "df.describe()"
   ]
  },
  {
   "cell_type": "markdown",
   "metadata": {},
   "source": []
  },
  {
   "cell_type": "markdown",
   "metadata": {},
   "source": [
    " ### **<span id=\"31\" style=\"color:#5DADE2;\">3.1- Aykırı Veri Tespiti ve İşleme</span>**"
   ]
  },
  {
   "cell_type": "markdown",
   "metadata": {},
   "source": []
  },
  {
   "cell_type": "code",
   "execution_count": 11,
   "metadata": {},
   "outputs": [
    {
     "data": {
      "text/html": [
       "<div>\n",
       "<style scoped>\n",
       "    .dataframe tbody tr th:only-of-type {\n",
       "        vertical-align: middle;\n",
       "    }\n",
       "\n",
       "    .dataframe tbody tr th {\n",
       "        vertical-align: top;\n",
       "    }\n",
       "\n",
       "    .dataframe thead th {\n",
       "        text-align: right;\n",
       "    }\n",
       "</style>\n",
       "<table border=\"1\" class=\"dataframe\">\n",
       "  <thead>\n",
       "    <tr style=\"text-align: right;\">\n",
       "      <th></th>\n",
       "      <th>0.25</th>\n",
       "      <th>0.75</th>\n",
       "      <th>IQR</th>\n",
       "    </tr>\n",
       "  </thead>\n",
       "  <tbody>\n",
       "    <tr>\n",
       "      <th>ph</th>\n",
       "      <td>6.277673</td>\n",
       "      <td>7.870050</td>\n",
       "      <td>1.592377</td>\n",
       "    </tr>\n",
       "    <tr>\n",
       "      <th>Hardness</th>\n",
       "      <td>176.850538</td>\n",
       "      <td>216.667456</td>\n",
       "      <td>39.816918</td>\n",
       "    </tr>\n",
       "    <tr>\n",
       "      <th>Solids</th>\n",
       "      <td>15666.690297</td>\n",
       "      <td>27332.762127</td>\n",
       "      <td>11666.071830</td>\n",
       "    </tr>\n",
       "    <tr>\n",
       "      <th>Chloramines</th>\n",
       "      <td>6.127421</td>\n",
       "      <td>8.114887</td>\n",
       "      <td>1.987466</td>\n",
       "    </tr>\n",
       "    <tr>\n",
       "      <th>Sulfate</th>\n",
       "      <td>317.094638</td>\n",
       "      <td>350.385756</td>\n",
       "      <td>33.291119</td>\n",
       "    </tr>\n",
       "    <tr>\n",
       "      <th>Conductivity</th>\n",
       "      <td>365.734414</td>\n",
       "      <td>481.792304</td>\n",
       "      <td>116.057890</td>\n",
       "    </tr>\n",
       "    <tr>\n",
       "      <th>Organic_carbon</th>\n",
       "      <td>12.065801</td>\n",
       "      <td>16.557652</td>\n",
       "      <td>4.491850</td>\n",
       "    </tr>\n",
       "    <tr>\n",
       "      <th>Trihalomethanes</th>\n",
       "      <td>56.647656</td>\n",
       "      <td>76.666609</td>\n",
       "      <td>20.018954</td>\n",
       "    </tr>\n",
       "    <tr>\n",
       "      <th>Turbidity</th>\n",
       "      <td>3.439711</td>\n",
       "      <td>4.500320</td>\n",
       "      <td>1.060609</td>\n",
       "    </tr>\n",
       "    <tr>\n",
       "      <th>Potability</th>\n",
       "      <td>0.000000</td>\n",
       "      <td>1.000000</td>\n",
       "      <td>1.000000</td>\n",
       "    </tr>\n",
       "  </tbody>\n",
       "</table>\n",
       "</div>"
      ],
      "text/plain": [
       "                         0.25          0.75           IQR\n",
       "ph                   6.277673      7.870050      1.592377\n",
       "Hardness           176.850538    216.667456     39.816918\n",
       "Solids           15666.690297  27332.762127  11666.071830\n",
       "Chloramines          6.127421      8.114887      1.987466\n",
       "Sulfate            317.094638    350.385756     33.291119\n",
       "Conductivity       365.734414    481.792304    116.057890\n",
       "Organic_carbon      12.065801     16.557652      4.491850\n",
       "Trihalomethanes     56.647656     76.666609     20.018954\n",
       "Turbidity            3.439711      4.500320      1.060609\n",
       "Potability           0.000000      1.000000      1.000000"
      ]
     },
     "execution_count": 11,
     "metadata": {},
     "output_type": "execute_result"
    }
   ],
   "source": [
    "# Aykırı verileri düzeltebilmek için yazılan formüller:\n",
    "\n",
    "Q1 = df.quantile(0.25)\n",
    "Q3 = df.quantile(0.75)\n",
    "IQR=Q3-Q1\n",
    "Q1=pd.DataFrame(Q1)\n",
    "Q3=pd.DataFrame(Q3)\n",
    "IQR=pd.DataFrame(IQR,columns=[\"IQR\"])\n",
    "sonuc = pd.concat([Q1, Q3,IQR], axis=1, join=\"inner\")\n",
    "sonuc\n"
   ]
  },
  {
   "cell_type": "markdown",
   "metadata": {},
   "source": []
  },
  {
   "cell_type": "markdown",
   "metadata": {},
   "source": [
    "\n",
    "* ## **<span id=\"32\" style=\"color:#5DADE2;\">3.2- Verilerin Kutu Grafikleri ve Aykırı Veri Yorumlamaları</span>**"
   ]
  },
  {
   "cell_type": "markdown",
   "metadata": {},
   "source": []
  },
  {
   "cell_type": "code",
   "execution_count": 12,
   "metadata": {},
   "outputs": [
    {
     "data": {
      "text/plain": [
       "<matplotlib.axes._subplots.AxesSubplot at 0x1e4b00d1940>"
      ]
     },
     "execution_count": 12,
     "metadata": {},
     "output_type": "execute_result"
    },
    {
     "data": {
      "image/png": "[encoded data removed]",
      "text/plain": [
       "<Figure size 1440x576 with 1 Axes>"
      ]
     },
     "metadata": {
      "needs_background": "light"
     },
     "output_type": "display_data"
    }
   ],
   "source": [
    "# Aykırı verilerin görünümü:\n",
    "\n",
    "plt.rcParams['figure.figsize'] = [20,8]\n",
    "df.plot.box()"
   ]
  },
  {
   "cell_type": "markdown",
   "metadata": {},
   "source": []
  },
  {
   "cell_type": "markdown",
   "metadata": {},
   "source": [
    "* ##### **<span style=\"color:#F4D03F;\">Eksik verileri sütun ortalamasıyla değiştirdik fakat aykırı verilerimiz de çok. bu yüzden aykırı verilerin olduğu bütün sütunları tek tek inceleyelim.</span>**"
   ]
  },
  {
   "cell_type": "markdown",
   "metadata": {},
   "source": []
  },
  {
   "cell_type": "code",
   "execution_count": 13,
   "metadata": {},
   "outputs": [
    {
     "data": {
      "image/png": "[encoded data removed]",
      "text/plain": [
       "<Figure size 576x360 with 1 Axes>"
      ]
     },
     "metadata": {
      "needs_background": "light"
     },
     "output_type": "display_data"
    },
    {
     "data": {
      "image/png": "[encoded data removed]",
      "text/plain": [
       "<Figure size 576x360 with 1 Axes>"
      ]
     },
     "metadata": {
      "needs_background": "light"
     },
     "output_type": "display_data"
    },
    {
     "data": {
      "image/png": "[encoded data removed]",
      "text/plain": [
       "<Figure size 576x360 with 1 Axes>"
      ]
     },
     "metadata": {
      "needs_background": "light"
     },
     "output_type": "display_data"
    },
    {
     "data": {
      "image/png": "[encoded data removed]",
      "text/plain": [
       "<Figure size 576x360 with 1 Axes>"
      ]
     },
     "metadata": {
      "needs_background": "light"
     },
     "output_type": "display_data"
    },
    {
     "data": {
      "image/png": "[encoded data removed]",
      "text/plain": [
       "<Figure size 576x360 with 1 Axes>"
      ]
     },
     "metadata": {
      "needs_background": "light"
     },
     "output_type": "display_data"
    },
    {
     "data": {
      "image/png": "[encoded data removed]",
      "text/plain": [
       "<Figure size 576x360 with 1 Axes>"
      ]
     },
     "metadata": {
      "needs_background": "light"
     },
     "output_type": "display_data"
    },
    {
     "data": {
      "image/png": "[encoded data removed]",
      "text/plain": [
       "<Figure size 576x360 with 1 Axes>"
      ]
     },
     "metadata": {
      "needs_background": "light"
     },
     "output_type": "display_data"
    },
    {
     "data": {
      "image/png": "[encoded data removed]",
      "text/plain": [
       "<Figure size 576x360 with 1 Axes>"
      ]
     },
     "metadata": {
      "needs_background": "light"
     },
     "output_type": "display_data"
    },
    {
     "data": {
      "image/png": "[encoded data removed]",
      "text/plain": [
       "<Figure size 576x360 with 1 Axes>"
      ]
     },
     "metadata": {
      "needs_background": "light"
     },
     "output_type": "display_data"
    }
   ],
   "source": [
    "for col in df.drop(\"Potability\", axis=1).columns:\n",
    "    plt.figure(figsize=(8,5))\n",
    "    sns.boxplot(df[col])\n",
    "    plt.title(f\"{col}_Aykırı_Verileri\", size=15)\n",
    "    plt.show()\n"
   ]
  },
  {
   "cell_type": "markdown",
   "metadata": {},
   "source": []
  },
  {
   "cell_type": "markdown",
   "metadata": {},
   "source": [
    "   * ##### **<span style=\"color:#F4D03F;\">Grafiklere dayanarak her sütunda aykırı veri olduğunu gördük ve aykırı verilerden kurtulmak \"for\" döngüsü ile tek tek Q1,Q3 ve IQR verilerine dayanarak üst sınırdan yüksek olanları üst sınıra alt sınırdan alçak olanları da alt sınıra eşitledik ve aykırı verilerden kurtulmuş halinin grafiğini çıkardık.</span>**"
   ]
  },
  {
   "cell_type": "markdown",
   "metadata": {},
   "source": []
  },
  {
   "cell_type": "code",
   "execution_count": 14,
   "metadata": {},
   "outputs": [
    {
     "name": "stdout",
     "output_type": "stream",
     "text": [
      "ph Alt Sınır:  3.8891069568402266\n",
      "ph Üst Sınır:  10.258615434291347\n",
      "ph  Sütununun Üst Sınırdan Yüksek olan Veri Sayısı:  75\n",
      "ph  Sütununun Alt Sınırdan Az olan Veri Sayısı:  67\n",
      "ph \n",
      "Q1: 6.277672635884397 \n",
      "Q3: 7.870049755247177 \n",
      "IQR: 1.59237711936278\n",
      "\n"
     ]
    },
    {
     "name": "stderr",
     "output_type": "stream",
     "text": [
      "<ipython-input-14-da8cb470c446>:14: SettingWithCopyWarning: \n",
      "A value is trying to be set on a copy of a slice from a DataFrame\n",
      "\n",
      "See the caveats in the documentation: https://pandas.pydata.org/pandas-docs/stable/user_guide/indexing.html#returning-a-view-versus-a-copy\n",
      "  df[col][df[col]<alt_sinir] = alt_sinir\n",
      "<ipython-input-14-da8cb470c446>:15: SettingWithCopyWarning: \n",
      "A value is trying to be set on a copy of a slice from a DataFrame\n",
      "\n",
      "See the caveats in the documentation: https://pandas.pydata.org/pandas-docs/stable/user_guide/indexing.html#returning-a-view-versus-a-copy\n",
      "  df[col][df[col]>ust_sinir] = ust_sinir\n"
     ]
    },
    {
     "data": {
      "image/png": "[encoded data removed]",
      "text/plain": [
       "<Figure size 576x360 with 1 Axes>"
      ]
     },
     "metadata": {
      "needs_background": "light"
     },
     "output_type": "display_data"
    },
    {
     "name": "stderr",
     "output_type": "stream",
     "text": [
      "<ipython-input-14-da8cb470c446>:14: SettingWithCopyWarning: \n",
      "A value is trying to be set on a copy of a slice from a DataFrame\n",
      "\n",
      "See the caveats in the documentation: https://pandas.pydata.org/pandas-docs/stable/user_guide/indexing.html#returning-a-view-versus-a-copy\n",
      "  df[col][df[col]<alt_sinir] = alt_sinir\n",
      "<ipython-input-14-da8cb470c446>:15: SettingWithCopyWarning: \n",
      "A value is trying to be set on a copy of a slice from a DataFrame\n",
      "\n",
      "See the caveats in the documentation: https://pandas.pydata.org/pandas-docs/stable/user_guide/indexing.html#returning-a-view-versus-a-copy\n",
      "  df[col][df[col]>ust_sinir] = ust_sinir\n"
     ]
    },
    {
     "name": "stdout",
     "output_type": "stream",
     "text": [
      "Hardness Alt Sınır:  117.12516037150485\n",
      "Hardness Üst Sınır:  276.3928337208903\n",
      "Hardness  Sütununun Üst Sınırdan Yüksek olan Veri Sayısı:  39\n",
      "Hardness  Sütununun Alt Sınırdan Az olan Veri Sayısı:  44\n",
      "Hardness \n",
      "Q1: 176.85053787752437 \n",
      "Q3: 216.66745621487073 \n",
      "IQR: 39.81691833734635\n",
      "\n"
     ]
    },
    {
     "data": {
      "image/png": "[encoded data removed]",
      "text/plain": [
       "<Figure size 576x360 with 1 Axes>"
      ]
     },
     "metadata": {
      "needs_background": "light"
     },
     "output_type": "display_data"
    },
    {
     "name": "stdout",
     "output_type": "stream",
     "text": [
      "Solids Alt Sınır:  -1832.4174487462951\n",
      "Solids Üst Sınır:  44831.86987314956\n",
      "Solids  Sütununun Üst Sınırdan Yüksek olan Veri Sayısı:  47\n",
      "Solids  Sütununun Alt Sınırdan Az olan Veri Sayısı:  0\n",
      "Solids \n",
      "Q1: 15666.69029696465 \n",
      "Q3: 27332.762127438615 \n",
      "IQR: 11666.071830473964\n",
      "\n"
     ]
    },
    {
     "name": "stderr",
     "output_type": "stream",
     "text": [
      "<ipython-input-14-da8cb470c446>:14: SettingWithCopyWarning: \n",
      "A value is trying to be set on a copy of a slice from a DataFrame\n",
      "\n",
      "See the caveats in the documentation: https://pandas.pydata.org/pandas-docs/stable/user_guide/indexing.html#returning-a-view-versus-a-copy\n",
      "  df[col][df[col]<alt_sinir] = alt_sinir\n",
      "<ipython-input-14-da8cb470c446>:15: SettingWithCopyWarning: \n",
      "A value is trying to be set on a copy of a slice from a DataFrame\n",
      "\n",
      "See the caveats in the documentation: https://pandas.pydata.org/pandas-docs/stable/user_guide/indexing.html#returning-a-view-versus-a-copy\n",
      "  df[col][df[col]>ust_sinir] = ust_sinir\n"
     ]
    },
    {
     "data": {
      "image/png": "[encoded data removed]",
      "text/plain": [
       "<Figure size 576x360 with 1 Axes>"
      ]
     },
     "metadata": {
      "needs_background": "light"
     },
     "output_type": "display_data"
    },
    {
     "name": "stdout",
     "output_type": "stream",
     "text": [
      "Chloramines Alt Sınır:  3.146221340564705\n",
      "Chloramines Üst Sınır:  11.09608644703562\n",
      "Chloramines  Sütununun Üst Sınırdan Yüksek olan Veri Sayısı:  30\n",
      "Chloramines  Sütununun Alt Sınırdan Az olan Veri Sayısı:  31\n",
      "Chloramines \n",
      "Q1: 6.127420755491299 \n",
      "Q3: 8.114887032109028 \n",
      "IQR: 1.9874662766177291\n",
      "\n"
     ]
    },
    {
     "name": "stderr",
     "output_type": "stream",
     "text": [
      "<ipython-input-14-da8cb470c446>:14: SettingWithCopyWarning: \n",
      "A value is trying to be set on a copy of a slice from a DataFrame\n",
      "\n",
      "See the caveats in the documentation: https://pandas.pydata.org/pandas-docs/stable/user_guide/indexing.html#returning-a-view-versus-a-copy\n",
      "  df[col][df[col]<alt_sinir] = alt_sinir\n",
      "<ipython-input-14-da8cb470c446>:15: SettingWithCopyWarning: \n",
      "A value is trying to be set on a copy of a slice from a DataFrame\n",
      "\n",
      "See the caveats in the documentation: https://pandas.pydata.org/pandas-docs/stable/user_guide/indexing.html#returning-a-view-versus-a-copy\n",
      "  df[col][df[col]>ust_sinir] = ust_sinir\n"
     ]
    },
    {
     "data": {
      "image/png": "[encoded data removed]",
      "text/plain": [
       "<Figure size 576x360 with 1 Axes>"
      ]
     },
     "metadata": {
      "needs_background": "light"
     },
     "output_type": "display_data"
    },
    {
     "name": "stdout",
     "output_type": "stream",
     "text": [
      "Sulfate Alt Sınır:  267.15795986167393\n",
      "Sulfate Üst Sınır:  400.3224341668414\n",
      "Sulfate  Sütununun Üst Sınırdan Yüksek olan Veri Sayısı:  135\n",
      "Sulfate  Sütununun Alt Sınırdan Az olan Veri Sayısı:  129\n",
      "Sulfate \n",
      "Q1: 317.0946377261117 \n",
      "Q3: 350.3857563024036 \n",
      "IQR: 33.291118576291865\n",
      "\n"
     ]
    },
    {
     "name": "stderr",
     "output_type": "stream",
     "text": [
      "<ipython-input-14-da8cb470c446>:14: SettingWithCopyWarning: \n",
      "A value is trying to be set on a copy of a slice from a DataFrame\n",
      "\n",
      "See the caveats in the documentation: https://pandas.pydata.org/pandas-docs/stable/user_guide/indexing.html#returning-a-view-versus-a-copy\n",
      "  df[col][df[col]<alt_sinir] = alt_sinir\n",
      "<ipython-input-14-da8cb470c446>:15: SettingWithCopyWarning: \n",
      "A value is trying to be set on a copy of a slice from a DataFrame\n",
      "\n",
      "See the caveats in the documentation: https://pandas.pydata.org/pandas-docs/stable/user_guide/indexing.html#returning-a-view-versus-a-copy\n",
      "  df[col][df[col]>ust_sinir] = ust_sinir\n"
     ]
    },
    {
     "data": {
      "image/png": "[encoded data removed]",
      "text/plain": [
       "<Figure size 576x360 with 1 Axes>"
      ]
     },
     "metadata": {
      "needs_background": "light"
     },
     "output_type": "display_data"
    },
    {
     "name": "stdout",
     "output_type": "stream",
     "text": [
      "Conductivity Alt Sınır:  191.64757856456433\n",
      "Conductivity Üst Sınır:  655.8791400416264\n",
      "Conductivity  Sütununun Üst Sınırdan Yüksek olan Veri Sayısı:  10\n",
      "Conductivity  Sütununun Alt Sınırdan Az olan Veri Sayısı:  1\n",
      "Conductivity \n",
      "Q1: 365.7344141184626 \n",
      "Q3: 481.79230448772813 \n",
      "IQR: 116.05789036926552\n",
      "\n"
     ]
    },
    {
     "name": "stderr",
     "output_type": "stream",
     "text": [
      "<ipython-input-14-da8cb470c446>:14: SettingWithCopyWarning: \n",
      "A value is trying to be set on a copy of a slice from a DataFrame\n",
      "\n",
      "See the caveats in the documentation: https://pandas.pydata.org/pandas-docs/stable/user_guide/indexing.html#returning-a-view-versus-a-copy\n",
      "  df[col][df[col]<alt_sinir] = alt_sinir\n",
      "<ipython-input-14-da8cb470c446>:15: SettingWithCopyWarning: \n",
      "A value is trying to be set on a copy of a slice from a DataFrame\n",
      "\n",
      "See the caveats in the documentation: https://pandas.pydata.org/pandas-docs/stable/user_guide/indexing.html#returning-a-view-versus-a-copy\n",
      "  df[col][df[col]>ust_sinir] = ust_sinir\n"
     ]
    },
    {
     "data": {
      "image/png": "[encoded data removed]",
      "text/plain": [
       "<Figure size 576x360 with 1 Axes>"
      ]
     },
     "metadata": {
      "needs_background": "light"
     },
     "output_type": "display_data"
    },
    {
     "name": "stdout",
     "output_type": "stream",
     "text": [
      "Organic_carbon Alt Sınır:  5.3280260182675105\n",
      "Organic_carbon Üst Sınır:  23.29542685918899\n",
      "Organic_carbon  Sütununun Üst Sınırdan Yüksek olan Veri Sayısı:  12\n",
      "Organic_carbon  Sütununun Alt Sınırdan Az olan Veri Sayısı:  13\n",
      "Organic_carbon \n",
      "Q1: 12.065801333613065 \n",
      "Q3: 16.557651543843434 \n",
      "IQR: 4.4918502102303695\n",
      "\n"
     ]
    },
    {
     "name": "stderr",
     "output_type": "stream",
     "text": [
      "<ipython-input-14-da8cb470c446>:14: SettingWithCopyWarning: \n",
      "A value is trying to be set on a copy of a slice from a DataFrame\n",
      "\n",
      "See the caveats in the documentation: https://pandas.pydata.org/pandas-docs/stable/user_guide/indexing.html#returning-a-view-versus-a-copy\n",
      "  df[col][df[col]<alt_sinir] = alt_sinir\n",
      "<ipython-input-14-da8cb470c446>:15: SettingWithCopyWarning: \n",
      "A value is trying to be set on a copy of a slice from a DataFrame\n",
      "\n",
      "See the caveats in the documentation: https://pandas.pydata.org/pandas-docs/stable/user_guide/indexing.html#returning-a-view-versus-a-copy\n",
      "  df[col][df[col]>ust_sinir] = ust_sinir\n"
     ]
    },
    {
     "data": {
      "image/png": "[encoded data removed]",
      "text/plain": [
       "<Figure size 576x360 with 1 Axes>"
      ]
     },
     "metadata": {
      "needs_background": "light"
     },
     "output_type": "display_data"
    },
    {
     "name": "stdout",
     "output_type": "stream",
     "text": [
      "Trihalomethanes Alt Sınır:  26.619225158022296\n",
      "Trihalomethanes Üst Sınır:  106.69503986064285\n",
      "Trihalomethanes  Sütununun Üst Sınırdan Yüksek olan Veri Sayısı:  25\n",
      "Trihalomethanes  Sütununun Alt Sınırdan Az olan Veri Sayısı:  29\n",
      "Trihalomethanes \n",
      "Q1: 56.64765567150501 \n",
      "Q3: 76.66660934716015 \n",
      "IQR: 20.01895367565514\n",
      "\n"
     ]
    },
    {
     "name": "stderr",
     "output_type": "stream",
     "text": [
      "<ipython-input-14-da8cb470c446>:14: SettingWithCopyWarning: \n",
      "A value is trying to be set on a copy of a slice from a DataFrame\n",
      "\n",
      "See the caveats in the documentation: https://pandas.pydata.org/pandas-docs/stable/user_guide/indexing.html#returning-a-view-versus-a-copy\n",
      "  df[col][df[col]<alt_sinir] = alt_sinir\n",
      "<ipython-input-14-da8cb470c446>:15: SettingWithCopyWarning: \n",
      "A value is trying to be set on a copy of a slice from a DataFrame\n",
      "\n",
      "See the caveats in the documentation: https://pandas.pydata.org/pandas-docs/stable/user_guide/indexing.html#returning-a-view-versus-a-copy\n",
      "  df[col][df[col]>ust_sinir] = ust_sinir\n"
     ]
    },
    {
     "data": {
      "image/png": "[encoded data removed]",
      "text/plain": [
       "<Figure size 576x360 with 1 Axes>"
      ]
     },
     "metadata": {
      "needs_background": "light"
     },
     "output_type": "display_data"
    },
    {
     "name": "stdout",
     "output_type": "stream",
     "text": [
      "Turbidity Alt Sınır:  1.8487974931046152\n",
      "Turbidity Üst Sınır:  6.091233163793407\n",
      "Turbidity  Sütununun Üst Sınırdan Yüksek olan Veri Sayısı:  9\n",
      "Turbidity  Sütununun Alt Sınırdan Az olan Veri Sayısı:  10\n",
      "Turbidity \n",
      "Q1: 3.439710869612912 \n",
      "Q3: 4.50031978728511 \n",
      "IQR: 1.060608917672198\n",
      "\n"
     ]
    },
    {
     "name": "stderr",
     "output_type": "stream",
     "text": [
      "<ipython-input-14-da8cb470c446>:14: SettingWithCopyWarning: \n",
      "A value is trying to be set on a copy of a slice from a DataFrame\n",
      "\n",
      "See the caveats in the documentation: https://pandas.pydata.org/pandas-docs/stable/user_guide/indexing.html#returning-a-view-versus-a-copy\n",
      "  df[col][df[col]<alt_sinir] = alt_sinir\n",
      "<ipython-input-14-da8cb470c446>:15: SettingWithCopyWarning: \n",
      "A value is trying to be set on a copy of a slice from a DataFrame\n",
      "\n",
      "See the caveats in the documentation: https://pandas.pydata.org/pandas-docs/stable/user_guide/indexing.html#returning-a-view-versus-a-copy\n",
      "  df[col][df[col]>ust_sinir] = ust_sinir\n"
     ]
    },
    {
     "data": {
      "image/png": "[encoded data removed]",
      "text/plain": [
       "<Figure size 576x360 with 1 Axes>"
      ]
     },
     "metadata": {
      "needs_background": "light"
     },
     "output_type": "display_data"
    }
   ],
   "source": [
    "# Aykırı verilerin alt sınır ve üst sınıra eşitlemesi yapıldı.\n",
    "\n",
    "for col in df.drop(\"Potability\", axis=1).columns:\n",
    "    Q1=df[col].quantile(0.25)\n",
    "    Q3=df[col].quantile(0.75)\n",
    "    IQR=Q3-Q1\n",
    "    alt_sinir = Q1-(IQR*1.5)\n",
    "    ust_sinir = Q3+(IQR*1.5);\n",
    "    print(col,\"Alt Sınır: \",alt_sinir)\n",
    "    print(col,\"Üst Sınır: \",ust_sinir)\n",
    "    print(col,\" Sütununun Üst Sınırdan Yüksek olan Veri Sayısı: \",df[col][df[col]>ust_sinir].count())\n",
    "    print(col,\" Sütununun Alt Sınırdan Az olan Veri Sayısı: \",df[col][df[col]<alt_sinir].count())\n",
    "    print(col,\"\\nQ1: {} \\nQ3: {} \\n\"\"IQR: {}\\n\".format(Q1, Q3, IQR))\n",
    "    df[col][df[col]<alt_sinir] = alt_sinir\n",
    "    df[col][df[col]>ust_sinir] = ust_sinir\n",
    "    plt.figure(figsize=(8,5))\n",
    "    sns.boxplot(df[col])\n",
    "    plt.title(f\"{col}\", size=15)\n",
    "    plt.show()\n",
    "\n"
   ]
  },
  {
   "cell_type": "code",
   "execution_count": 15,
   "metadata": {},
   "outputs": [
    {
     "data": {
      "text/html": [
       "<div>\n",
       "<style scoped>\n",
       "    .dataframe tbody tr th:only-of-type {\n",
       "        vertical-align: middle;\n",
       "    }\n",
       "\n",
       "    .dataframe tbody tr th {\n",
       "        vertical-align: top;\n",
       "    }\n",
       "\n",
       "    .dataframe thead th {\n",
       "        text-align: right;\n",
       "    }\n",
       "</style>\n",
       "<table border=\"1\" class=\"dataframe\">\n",
       "  <thead>\n",
       "    <tr style=\"text-align: right;\">\n",
       "      <th></th>\n",
       "      <th>ph</th>\n",
       "      <th>Hardness</th>\n",
       "      <th>Solids</th>\n",
       "      <th>Chloramines</th>\n",
       "      <th>Sulfate</th>\n",
       "      <th>Conductivity</th>\n",
       "      <th>Organic_carbon</th>\n",
       "      <th>Trihalomethanes</th>\n",
       "      <th>Turbidity</th>\n",
       "      <th>Potability</th>\n",
       "    </tr>\n",
       "  </thead>\n",
       "  <tbody>\n",
       "    <tr>\n",
       "      <th>count</th>\n",
       "      <td>3276.000000</td>\n",
       "      <td>3276.000000</td>\n",
       "      <td>3276.000000</td>\n",
       "      <td>3276.000000</td>\n",
       "      <td>3276.000000</td>\n",
       "      <td>3276.000000</td>\n",
       "      <td>3276.000000</td>\n",
       "      <td>3276.000000</td>\n",
       "      <td>3276.000000</td>\n",
       "      <td>3276.000000</td>\n",
       "    </tr>\n",
       "    <tr>\n",
       "      <th>mean</th>\n",
       "      <td>7.079949</td>\n",
       "      <td>196.392423</td>\n",
       "      <td>21957.112200</td>\n",
       "      <td>7.121794</td>\n",
       "      <td>333.788678</td>\n",
       "      <td>426.129974</td>\n",
       "      <td>14.283462</td>\n",
       "      <td>66.420427</td>\n",
       "      <td>3.966612</td>\n",
       "      <td>0.390110</td>\n",
       "    </tr>\n",
       "    <tr>\n",
       "      <th>std</th>\n",
       "      <td>1.381951</td>\n",
       "      <td>32.017189</td>\n",
       "      <td>8592.820397</td>\n",
       "      <td>1.544126</td>\n",
       "      <td>31.768004</td>\n",
       "      <td>80.564144</td>\n",
       "      <td>3.288367</td>\n",
       "      <td>15.487146</td>\n",
       "      <td>0.776409</td>\n",
       "      <td>0.487849</td>\n",
       "    </tr>\n",
       "    <tr>\n",
       "      <th>min</th>\n",
       "      <td>3.889107</td>\n",
       "      <td>117.125160</td>\n",
       "      <td>320.942611</td>\n",
       "      <td>3.146221</td>\n",
       "      <td>267.157960</td>\n",
       "      <td>191.647579</td>\n",
       "      <td>5.328026</td>\n",
       "      <td>26.619225</td>\n",
       "      <td>1.848797</td>\n",
       "      <td>0.000000</td>\n",
       "    </tr>\n",
       "    <tr>\n",
       "      <th>25%</th>\n",
       "      <td>6.277673</td>\n",
       "      <td>176.850538</td>\n",
       "      <td>15666.690297</td>\n",
       "      <td>6.127421</td>\n",
       "      <td>317.094638</td>\n",
       "      <td>365.734414</td>\n",
       "      <td>12.065801</td>\n",
       "      <td>56.647656</td>\n",
       "      <td>3.439711</td>\n",
       "      <td>0.000000</td>\n",
       "    </tr>\n",
       "    <tr>\n",
       "      <th>50%</th>\n",
       "      <td>7.080795</td>\n",
       "      <td>196.967627</td>\n",
       "      <td>20927.833607</td>\n",
       "      <td>7.130299</td>\n",
       "      <td>333.775777</td>\n",
       "      <td>421.884968</td>\n",
       "      <td>14.218338</td>\n",
       "      <td>66.396293</td>\n",
       "      <td>3.955028</td>\n",
       "      <td>0.000000</td>\n",
       "    </tr>\n",
       "    <tr>\n",
       "      <th>75%</th>\n",
       "      <td>7.870050</td>\n",
       "      <td>216.667456</td>\n",
       "      <td>27332.762127</td>\n",
       "      <td>8.114887</td>\n",
       "      <td>350.385756</td>\n",
       "      <td>481.792304</td>\n",
       "      <td>16.557652</td>\n",
       "      <td>76.666609</td>\n",
       "      <td>4.500320</td>\n",
       "      <td>1.000000</td>\n",
       "    </tr>\n",
       "    <tr>\n",
       "      <th>max</th>\n",
       "      <td>10.258615</td>\n",
       "      <td>276.392834</td>\n",
       "      <td>44831.869873</td>\n",
       "      <td>11.096086</td>\n",
       "      <td>400.322434</td>\n",
       "      <td>655.879140</td>\n",
       "      <td>23.295427</td>\n",
       "      <td>106.695040</td>\n",
       "      <td>6.091233</td>\n",
       "      <td>1.000000</td>\n",
       "    </tr>\n",
       "  </tbody>\n",
       "</table>\n",
       "</div>"
      ],
      "text/plain": [
       "                ph     Hardness        Solids  Chloramines      Sulfate  \\\n",
       "count  3276.000000  3276.000000   3276.000000  3276.000000  3276.000000   \n",
       "mean      7.079949   196.392423  21957.112200     7.121794   333.788678   \n",
       "std       1.381951    32.017189   8592.820397     1.544126    31.768004   \n",
       "min       3.889107   117.125160    320.942611     3.146221   267.157960   \n",
       "25%       6.277673   176.850538  15666.690297     6.127421   317.094638   \n",
       "50%       7.080795   196.967627  20927.833607     7.130299   333.775777   \n",
       "75%       7.870050   216.667456  27332.762127     8.114887   350.385756   \n",
       "max      10.258615   276.392834  44831.869873    11.096086   400.322434   \n",
       "\n",
       "       Conductivity  Organic_carbon  Trihalomethanes    Turbidity   Potability  \n",
       "count   3276.000000     3276.000000      3276.000000  3276.000000  3276.000000  \n",
       "mean     426.129974       14.283462        66.420427     3.966612     0.390110  \n",
       "std       80.564144        3.288367        15.487146     0.776409     0.487849  \n",
       "min      191.647579        5.328026        26.619225     1.848797     0.000000  \n",
       "25%      365.734414       12.065801        56.647656     3.439711     0.000000  \n",
       "50%      421.884968       14.218338        66.396293     3.955028     0.000000  \n",
       "75%      481.792304       16.557652        76.666609     4.500320     1.000000  \n",
       "max      655.879140       23.295427       106.695040     6.091233     1.000000  "
      ]
     },
     "execution_count": 15,
     "metadata": {},
     "output_type": "execute_result"
    }
   ],
   "source": [
    "df.describe()"
   ]
  },
  {
   "cell_type": "code",
   "execution_count": 16,
   "metadata": {
    "scrolled": false
   },
   "outputs": [
    {
     "data": {
      "image/png": "[encoded data removed]",
      "text/plain": [
       "<Figure size 1440x576 with 1 Axes>"
      ]
     },
     "metadata": {
      "needs_background": "light"
     },
     "output_type": "display_data"
    }
   ],
   "source": [
    "# İçilebilir ve içilemez su veri sayısının grafiksel gösterimi:\n",
    "\n",
    "plt.hist(df[\"Potability\"])\n",
    "plt.show()"
   ]
  },
  {
   "cell_type": "markdown",
   "metadata": {},
   "source": [
    "* ### **<span id=\"3.2\" style=\"color:#5DADE2;\">3.2- Aykırı Verilerden Arınmış Veri Setinin Korelasyon tablosu</span>**"
   ]
  },
  {
   "cell_type": "markdown",
   "metadata": {},
   "source": []
  },
  {
   "cell_type": "code",
   "execution_count": null,
   "metadata": {},
   "outputs": [
    {
     "data": {
      "image/png": "[encoded data removed]",
      "text/plain": [
       "<Figure size 1440x720 with 2 Axes>"
      ]
     },
     "metadata": {
      "needs_background": "light"
     },
     "output_type": "display_data"
    }
   ],
   "source": [
    "sns.heatmap(df.corr(), annot = True, cmap = \"terrain\")\n",
    "fig.set_size_inches(20,10)\n",
    "plt.show()"
   ]
  },
  {
   "cell_type": "markdown",
   "metadata": {},
   "source": []
  },
  {
   "cell_type": "markdown",
   "metadata": {},
   "source": [
    "## **<span id=\"4\" style=\"color:#5DADE2;\">4- Karar Ağacı Yöntemiyle Makine Öğrenmesi Uygulaması</span>**"
   ]
  },
  {
   "cell_type": "markdown",
   "metadata": {},
   "source": []
  },
  {
   "cell_type": "code",
   "execution_count": 18,
   "metadata": {},
   "outputs": [],
   "source": [
    "# Ölçekleme yapabilmek için gereken kütüphane\n",
    "\n",
    "from sklearn import preprocessing"
   ]
  },
  {
   "cell_type": "code",
   "execution_count": 19,
   "metadata": {},
   "outputs": [],
   "source": [
    "X = df.drop(\"Potability\", axis=1)\n",
    "y = df[\"Potability\"]"
   ]
  },
  {
   "cell_type": "code",
   "execution_count": 20,
   "metadata": {},
   "outputs": [],
   "source": [
    "scaler = preprocessing.MinMaxScaler()\n",
    "x_scaled = scaler.fit_transform(X)"
   ]
  },
  {
   "cell_type": "code",
   "execution_count": 21,
   "metadata": {},
   "outputs": [],
   "source": [
    "df_pandas = pd.DataFrame(x_scaled, columns = ['ph','Hardness','Solids','Chloramines','Sulfate','Conductivity','Organic_carbon','Trihalomethanes','Turbidity'])"
   ]
  },
  {
   "cell_type": "code",
   "execution_count": 22,
   "metadata": {},
   "outputs": [
    {
     "data": {
      "text/html": [
       "<div>\n",
       "<style scoped>\n",
       "    .dataframe tbody tr th:only-of-type {\n",
       "        vertical-align: middle;\n",
       "    }\n",
       "\n",
       "    .dataframe tbody tr th {\n",
       "        vertical-align: top;\n",
       "    }\n",
       "\n",
       "    .dataframe thead th {\n",
       "        text-align: right;\n",
       "    }\n",
       "</style>\n",
       "<table border=\"1\" class=\"dataframe\">\n",
       "  <thead>\n",
       "    <tr style=\"text-align: right;\">\n",
       "      <th></th>\n",
       "      <th>ph</th>\n",
       "      <th>Hardness</th>\n",
       "      <th>Solids</th>\n",
       "      <th>Chloramines</th>\n",
       "      <th>Sulfate</th>\n",
       "      <th>Conductivity</th>\n",
       "      <th>Organic_carbon</th>\n",
       "      <th>Trihalomethanes</th>\n",
       "      <th>Turbidity</th>\n",
       "      <th>Potability</th>\n",
       "    </tr>\n",
       "  </thead>\n",
       "  <tbody>\n",
       "    <tr>\n",
       "      <th>0</th>\n",
       "      <td>0.501089</td>\n",
       "      <td>0.551055</td>\n",
       "      <td>0.459896</td>\n",
       "      <td>0.522523</td>\n",
       "      <td>0.761153</td>\n",
       "      <td>0.802748</td>\n",
       "      <td>0.281162</td>\n",
       "      <td>0.753932</td>\n",
       "      <td>0.262665</td>\n",
       "      <td>0</td>\n",
       "    </tr>\n",
       "    <tr>\n",
       "      <th>1</th>\n",
       "      <td>0.000000</td>\n",
       "      <td>0.077214</td>\n",
       "      <td>0.411340</td>\n",
       "      <td>0.438878</td>\n",
       "      <td>0.500267</td>\n",
       "      <td>0.864305</td>\n",
       "      <td>0.548326</td>\n",
       "      <td>0.371022</td>\n",
       "      <td>0.625079</td>\n",
       "      <td>0</td>\n",
       "    </tr>\n",
       "    <tr>\n",
       "      <th>2</th>\n",
       "      <td>0.660964</td>\n",
       "      <td>0.672523</td>\n",
       "      <td>0.440085</td>\n",
       "      <td>0.771040</td>\n",
       "      <td>0.500267</td>\n",
       "      <td>0.488891</td>\n",
       "      <td>0.642308</td>\n",
       "      <td>0.497040</td>\n",
       "      <td>0.284538</td>\n",
       "      <td>0</td>\n",
       "    </tr>\n",
       "    <tr>\n",
       "      <th>3</th>\n",
       "      <td>0.695134</td>\n",
       "      <td>0.610596</td>\n",
       "      <td>0.487464</td>\n",
       "      <td>0.618012</td>\n",
       "      <td>0.673815</td>\n",
       "      <td>0.369684</td>\n",
       "      <td>0.729571</td>\n",
       "      <td>0.920658</td>\n",
       "      <td>0.655278</td>\n",
       "      <td>0</td>\n",
       "    </tr>\n",
       "    <tr>\n",
       "      <th>4</th>\n",
       "      <td>0.816879</td>\n",
       "      <td>0.401691</td>\n",
       "      <td>0.396713</td>\n",
       "      <td>0.427728</td>\n",
       "      <td>0.322742</td>\n",
       "      <td>0.445388</td>\n",
       "      <td>0.346753</td>\n",
       "      <td>0.067171</td>\n",
       "      <td>0.524764</td>\n",
       "      <td>0</td>\n",
       "    </tr>\n",
       "    <tr>\n",
       "      <th>...</th>\n",
       "      <td>...</td>\n",
       "      <td>...</td>\n",
       "      <td>...</td>\n",
       "      <td>...</td>\n",
       "      <td>...</td>\n",
       "      <td>...</td>\n",
       "      <td>...</td>\n",
       "      <td>...</td>\n",
       "      <td>...</td>\n",
       "      <td>...</td>\n",
       "    </tr>\n",
       "    <tr>\n",
       "      <th>3271</th>\n",
       "      <td>0.122301</td>\n",
       "      <td>0.480679</td>\n",
       "      <td>1.000000</td>\n",
       "      <td>0.505721</td>\n",
       "      <td>0.696812</td>\n",
       "      <td>0.721141</td>\n",
       "      <td>0.476774</td>\n",
       "      <td>0.500382</td>\n",
       "      <td>0.609797</td>\n",
       "      <td>1</td>\n",
       "    </tr>\n",
       "    <tr>\n",
       "      <th>3272</th>\n",
       "      <td>0.615393</td>\n",
       "      <td>0.479872</td>\n",
       "      <td>0.382128</td>\n",
       "      <td>0.618267</td>\n",
       "      <td>0.500267</td>\n",
       "      <td>0.432547</td>\n",
       "      <td>0.811202</td>\n",
       "      <td>0.496743</td>\n",
       "      <td>0.223797</td>\n",
       "      <td>1</td>\n",
       "    </tr>\n",
       "    <tr>\n",
       "      <th>3273</th>\n",
       "      <td>0.868262</td>\n",
       "      <td>0.368169</td>\n",
       "      <td>0.737676</td>\n",
       "      <td>0.528816</td>\n",
       "      <td>0.500267</td>\n",
       "      <td>0.517839</td>\n",
       "      <td>0.317856</td>\n",
       "      <td>0.539816</td>\n",
       "      <td>0.341803</td>\n",
       "      <td>1</td>\n",
       "    </tr>\n",
       "    <tr>\n",
       "      <th>3274</th>\n",
       "      <td>0.194309</td>\n",
       "      <td>0.712502</td>\n",
       "      <td>0.262024</td>\n",
       "      <td>0.397131</td>\n",
       "      <td>0.500267</td>\n",
       "      <td>0.455022</td>\n",
       "      <td>0.325084</td>\n",
       "      <td>0.635260</td>\n",
       "      <td>0.674108</td>\n",
       "      <td>1</td>\n",
       "    </tr>\n",
       "    <tr>\n",
       "      <th>3275</th>\n",
       "      <td>0.625726</td>\n",
       "      <td>0.489598</td>\n",
       "      <td>0.383799</td>\n",
       "      <td>0.548825</td>\n",
       "      <td>0.500267</td>\n",
       "      <td>0.292553</td>\n",
       "      <td>0.601775</td>\n",
       "      <td>0.650374</td>\n",
       "      <td>0.108511</td>\n",
       "      <td>1</td>\n",
       "    </tr>\n",
       "  </tbody>\n",
       "</table>\n",
       "<p>3276 rows × 10 columns</p>\n",
       "</div>"
      ],
      "text/plain": [
       "            ph  Hardness    Solids  Chloramines   Sulfate  Conductivity  \\\n",
       "0     0.501089  0.551055  0.459896     0.522523  0.761153      0.802748   \n",
       "1     0.000000  0.077214  0.411340     0.438878  0.500267      0.864305   \n",
       "2     0.660964  0.672523  0.440085     0.771040  0.500267      0.488891   \n",
       "3     0.695134  0.610596  0.487464     0.618012  0.673815      0.369684   \n",
       "4     0.816879  0.401691  0.396713     0.427728  0.322742      0.445388   \n",
       "...        ...       ...       ...          ...       ...           ...   \n",
       "3271  0.122301  0.480679  1.000000     0.505721  0.696812      0.721141   \n",
       "3272  0.615393  0.479872  0.382128     0.618267  0.500267      0.432547   \n",
       "3273  0.868262  0.368169  0.737676     0.528816  0.500267      0.517839   \n",
       "3274  0.194309  0.712502  0.262024     0.397131  0.500267      0.455022   \n",
       "3275  0.625726  0.489598  0.383799     0.548825  0.500267      0.292553   \n",
       "\n",
       "      Organic_carbon  Trihalomethanes  Turbidity  Potability  \n",
       "0           0.281162         0.753932   0.262665           0  \n",
       "1           0.548326         0.371022   0.625079           0  \n",
       "2           0.642308         0.497040   0.284538           0  \n",
       "3           0.729571         0.920658   0.655278           0  \n",
       "4           0.346753         0.067171   0.524764           0  \n",
       "...              ...              ...        ...         ...  \n",
       "3271        0.476774         0.500382   0.609797           1  \n",
       "3272        0.811202         0.496743   0.223797           1  \n",
       "3273        0.317856         0.539816   0.341803           1  \n",
       "3274        0.325084         0.635260   0.674108           1  \n",
       "3275        0.601775         0.650374   0.108511           1  \n",
       "\n",
       "[3276 rows x 10 columns]"
      ]
     },
     "execution_count": 22,
     "metadata": {},
     "output_type": "execute_result"
    }
   ],
   "source": [
    "df =  pd.concat([df_pandas, y], axis=1)\n",
    "df"
   ]
  },
  {
   "cell_type": "code",
   "execution_count": 23,
   "metadata": {},
   "outputs": [],
   "source": [
    "from sklearn import metrics\n",
    "from sklearn.model_selection import train_test_split"
   ]
  },
  {
   "cell_type": "code",
   "execution_count": 24,
   "metadata": {},
   "outputs": [],
   "source": [
    "X_train, X_test, y_train, y_test = train_test_split(X, y, test_size=0.2, shuffle=True, random_state=0)"
   ]
  },
  {
   "cell_type": "code",
   "execution_count": 25,
   "metadata": {},
   "outputs": [
    {
     "data": {
      "text/html": [
       "<div>\n",
       "<style scoped>\n",
       "    .dataframe tbody tr th:only-of-type {\n",
       "        vertical-align: middle;\n",
       "    }\n",
       "\n",
       "    .dataframe tbody tr th {\n",
       "        vertical-align: top;\n",
       "    }\n",
       "\n",
       "    .dataframe thead th {\n",
       "        text-align: right;\n",
       "    }\n",
       "</style>\n",
       "<table border=\"1\" class=\"dataframe\">\n",
       "  <thead>\n",
       "    <tr style=\"text-align: right;\">\n",
       "      <th></th>\n",
       "      <th>ph</th>\n",
       "      <th>Hardness</th>\n",
       "      <th>Solids</th>\n",
       "      <th>Chloramines</th>\n",
       "      <th>Sulfate</th>\n",
       "      <th>Conductivity</th>\n",
       "      <th>Organic_carbon</th>\n",
       "      <th>Trihalomethanes</th>\n",
       "      <th>Turbidity</th>\n",
       "    </tr>\n",
       "  </thead>\n",
       "  <tbody>\n",
       "    <tr>\n",
       "      <th>2128</th>\n",
       "      <td>5.514748</td>\n",
       "      <td>228.735924</td>\n",
       "      <td>35343.628580</td>\n",
       "      <td>4.346608</td>\n",
       "      <td>333.775777</td>\n",
       "      <td>526.112381</td>\n",
       "      <td>14.930982</td>\n",
       "      <td>46.780508</td>\n",
       "      <td>2.798158</td>\n",
       "    </tr>\n",
       "    <tr>\n",
       "      <th>1519</th>\n",
       "      <td>7.080795</td>\n",
       "      <td>210.732854</td>\n",
       "      <td>13671.416030</td>\n",
       "      <td>8.546187</td>\n",
       "      <td>400.322434</td>\n",
       "      <td>352.252328</td>\n",
       "      <td>10.353659</td>\n",
       "      <td>45.304007</td>\n",
       "      <td>3.364891</td>\n",
       "    </tr>\n",
       "    <tr>\n",
       "      <th>40</th>\n",
       "      <td>7.080795</td>\n",
       "      <td>233.858996</td>\n",
       "      <td>11703.923907</td>\n",
       "      <td>4.599388</td>\n",
       "      <td>309.039320</td>\n",
       "      <td>349.399633</td>\n",
       "      <td>18.338893</td>\n",
       "      <td>42.677465</td>\n",
       "      <td>3.510004</td>\n",
       "    </tr>\n",
       "    <tr>\n",
       "      <th>1151</th>\n",
       "      <td>4.303575</td>\n",
       "      <td>227.007086</td>\n",
       "      <td>7323.302301</td>\n",
       "      <td>7.490508</td>\n",
       "      <td>326.695199</td>\n",
       "      <td>412.896404</td>\n",
       "      <td>12.906730</td>\n",
       "      <td>68.748918</td>\n",
       "      <td>2.010537</td>\n",
       "    </tr>\n",
       "    <tr>\n",
       "      <th>2404</th>\n",
       "      <td>9.624727</td>\n",
       "      <td>217.372780</td>\n",
       "      <td>25175.754158</td>\n",
       "      <td>9.883946</td>\n",
       "      <td>329.174454</td>\n",
       "      <td>394.054835</td>\n",
       "      <td>20.277571</td>\n",
       "      <td>85.840258</td>\n",
       "      <td>2.615257</td>\n",
       "    </tr>\n",
       "    <tr>\n",
       "      <th>...</th>\n",
       "      <td>...</td>\n",
       "      <td>...</td>\n",
       "      <td>...</td>\n",
       "      <td>...</td>\n",
       "      <td>...</td>\n",
       "      <td>...</td>\n",
       "      <td>...</td>\n",
       "      <td>...</td>\n",
       "      <td>...</td>\n",
       "    </tr>\n",
       "    <tr>\n",
       "      <th>835</th>\n",
       "      <td>7.440825</td>\n",
       "      <td>183.362713</td>\n",
       "      <td>17259.852302</td>\n",
       "      <td>4.610245</td>\n",
       "      <td>335.626443</td>\n",
       "      <td>452.995293</td>\n",
       "      <td>9.700906</td>\n",
       "      <td>80.537065</td>\n",
       "      <td>2.496343</td>\n",
       "    </tr>\n",
       "    <tr>\n",
       "      <th>3264</th>\n",
       "      <td>5.893103</td>\n",
       "      <td>239.269481</td>\n",
       "      <td>20526.666156</td>\n",
       "      <td>6.349561</td>\n",
       "      <td>341.256362</td>\n",
       "      <td>403.617560</td>\n",
       "      <td>18.963707</td>\n",
       "      <td>63.846319</td>\n",
       "      <td>4.390702</td>\n",
       "    </tr>\n",
       "    <tr>\n",
       "      <th>1653</th>\n",
       "      <td>6.648005</td>\n",
       "      <td>191.841801</td>\n",
       "      <td>15176.290678</td>\n",
       "      <td>5.661663</td>\n",
       "      <td>333.775777</td>\n",
       "      <td>471.047129</td>\n",
       "      <td>15.438287</td>\n",
       "      <td>56.532387</td>\n",
       "      <td>3.829784</td>\n",
       "    </tr>\n",
       "    <tr>\n",
       "      <th>2607</th>\n",
       "      <td>7.675914</td>\n",
       "      <td>233.300759</td>\n",
       "      <td>23673.100606</td>\n",
       "      <td>8.407497</td>\n",
       "      <td>333.775777</td>\n",
       "      <td>232.613624</td>\n",
       "      <td>18.459408</td>\n",
       "      <td>60.993590</td>\n",
       "      <td>5.040461</td>\n",
       "    </tr>\n",
       "    <tr>\n",
       "      <th>2732</th>\n",
       "      <td>7.080795</td>\n",
       "      <td>160.915815</td>\n",
       "      <td>13943.244974</td>\n",
       "      <td>8.399730</td>\n",
       "      <td>380.768478</td>\n",
       "      <td>344.154228</td>\n",
       "      <td>15.208691</td>\n",
       "      <td>75.575056</td>\n",
       "      <td>4.141552</td>\n",
       "    </tr>\n",
       "  </tbody>\n",
       "</table>\n",
       "<p>2620 rows × 9 columns</p>\n",
       "</div>"
      ],
      "text/plain": [
       "            ph    Hardness        Solids  Chloramines     Sulfate  \\\n",
       "2128  5.514748  228.735924  35343.628580     4.346608  333.775777   \n",
       "1519  7.080795  210.732854  13671.416030     8.546187  400.322434   \n",
       "40    7.080795  233.858996  11703.923907     4.599388  309.039320   \n",
       "1151  4.303575  227.007086   7323.302301     7.490508  326.695199   \n",
       "2404  9.624727  217.372780  25175.754158     9.883946  329.174454   \n",
       "...        ...         ...           ...          ...         ...   \n",
       "835   7.440825  183.362713  17259.852302     4.610245  335.626443   \n",
       "3264  5.893103  239.269481  20526.666156     6.349561  341.256362   \n",
       "1653  6.648005  191.841801  15176.290678     5.661663  333.775777   \n",
       "2607  7.675914  233.300759  23673.100606     8.407497  333.775777   \n",
       "2732  7.080795  160.915815  13943.244974     8.399730  380.768478   \n",
       "\n",
       "      Conductivity  Organic_carbon  Trihalomethanes  Turbidity  \n",
       "2128    526.112381       14.930982        46.780508   2.798158  \n",
       "1519    352.252328       10.353659        45.304007   3.364891  \n",
       "40      349.399633       18.338893        42.677465   3.510004  \n",
       "1151    412.896404       12.906730        68.748918   2.010537  \n",
       "2404    394.054835       20.277571        85.840258   2.615257  \n",
       "...            ...             ...              ...        ...  \n",
       "835     452.995293        9.700906        80.537065   2.496343  \n",
       "3264    403.617560       18.963707        63.846319   4.390702  \n",
       "1653    471.047129       15.438287        56.532387   3.829784  \n",
       "2607    232.613624       18.459408        60.993590   5.040461  \n",
       "2732    344.154228       15.208691        75.575056   4.141552  \n",
       "\n",
       "[2620 rows x 9 columns]"
      ]
     },
     "execution_count": 25,
     "metadata": {},
     "output_type": "execute_result"
    }
   ],
   "source": [
    "X_train"
   ]
  },
  {
   "cell_type": "code",
   "execution_count": 36,
   "metadata": {},
   "outputs": [],
   "source": [
    "from sklearn.tree import DecisionTreeClassifier\n",
    "df = DecisionTreeClassifier()"
   ]
  },
  {
   "cell_type": "code",
   "execution_count": 37,
   "metadata": {},
   "outputs": [
    {
     "data": {
      "text/plain": [
       "DecisionTreeClassifier()"
      ]
     },
     "execution_count": 37,
     "metadata": {},
     "output_type": "execute_result"
    }
   ],
   "source": [
    "df.fit(X_train, y_train)"
   ]
  },
  {
   "cell_type": "code",
   "execution_count": 38,
   "metadata": {},
   "outputs": [
    {
     "data": {
      "text/html": [
       "<div>\n",
       "<style scoped>\n",
       "    .dataframe tbody tr th:only-of-type {\n",
       "        vertical-align: middle;\n",
       "    }\n",
       "\n",
       "    .dataframe tbody tr th {\n",
       "        vertical-align: top;\n",
       "    }\n",
       "\n",
       "    .dataframe thead th {\n",
       "        text-align: right;\n",
       "    }\n",
       "</style>\n",
       "<table border=\"1\" class=\"dataframe\">\n",
       "  <thead>\n",
       "    <tr style=\"text-align: right;\">\n",
       "      <th></th>\n",
       "      <th>ph</th>\n",
       "      <th>Hardness</th>\n",
       "      <th>Solids</th>\n",
       "      <th>Chloramines</th>\n",
       "      <th>Sulfate</th>\n",
       "      <th>Conductivity</th>\n",
       "      <th>Organic_carbon</th>\n",
       "      <th>Trihalomethanes</th>\n",
       "      <th>Turbidity</th>\n",
       "    </tr>\n",
       "  </thead>\n",
       "  <tbody>\n",
       "    <tr>\n",
       "      <th>2017</th>\n",
       "      <td>8.111953</td>\n",
       "      <td>217.266472</td>\n",
       "      <td>38184.469574</td>\n",
       "      <td>7.254122</td>\n",
       "      <td>311.910224</td>\n",
       "      <td>281.069203</td>\n",
       "      <td>13.027921</td>\n",
       "      <td>78.582094</td>\n",
       "      <td>4.430750</td>\n",
       "    </tr>\n",
       "    <tr>\n",
       "      <th>2533</th>\n",
       "      <td>6.768060</td>\n",
       "      <td>179.805992</td>\n",
       "      <td>23793.031358</td>\n",
       "      <td>5.332099</td>\n",
       "      <td>333.198191</td>\n",
       "      <td>461.530446</td>\n",
       "      <td>13.557381</td>\n",
       "      <td>60.571241</td>\n",
       "      <td>4.145807</td>\n",
       "    </tr>\n",
       "    <tr>\n",
       "      <th>589</th>\n",
       "      <td>7.080795</td>\n",
       "      <td>180.893036</td>\n",
       "      <td>17705.608616</td>\n",
       "      <td>6.223312</td>\n",
       "      <td>350.195253</td>\n",
       "      <td>447.937123</td>\n",
       "      <td>10.461025</td>\n",
       "      <td>32.074863</td>\n",
       "      <td>3.999125</td>\n",
       "    </tr>\n",
       "    <tr>\n",
       "      <th>482</th>\n",
       "      <td>7.705711</td>\n",
       "      <td>178.922858</td>\n",
       "      <td>18476.619166</td>\n",
       "      <td>8.226228</td>\n",
       "      <td>334.889911</td>\n",
       "      <td>518.043369</td>\n",
       "      <td>10.638798</td>\n",
       "      <td>63.157489</td>\n",
       "      <td>3.861956</td>\n",
       "    </tr>\n",
       "    <tr>\n",
       "      <th>2620</th>\n",
       "      <td>5.830542</td>\n",
       "      <td>165.467025</td>\n",
       "      <td>30021.257079</td>\n",
       "      <td>8.433097</td>\n",
       "      <td>334.397777</td>\n",
       "      <td>494.154505</td>\n",
       "      <td>16.666613</td>\n",
       "      <td>69.580253</td>\n",
       "      <td>5.192117</td>\n",
       "    </tr>\n",
       "    <tr>\n",
       "      <th>...</th>\n",
       "      <td>...</td>\n",
       "      <td>...</td>\n",
       "      <td>...</td>\n",
       "      <td>...</td>\n",
       "      <td>...</td>\n",
       "      <td>...</td>\n",
       "      <td>...</td>\n",
       "      <td>...</td>\n",
       "      <td>...</td>\n",
       "    </tr>\n",
       "    <tr>\n",
       "      <th>2802</th>\n",
       "      <td>5.230454</td>\n",
       "      <td>152.094169</td>\n",
       "      <td>24790.724599</td>\n",
       "      <td>6.308730</td>\n",
       "      <td>388.998079</td>\n",
       "      <td>307.918075</td>\n",
       "      <td>12.594197</td>\n",
       "      <td>51.625213</td>\n",
       "      <td>3.695615</td>\n",
       "    </tr>\n",
       "    <tr>\n",
       "      <th>1120</th>\n",
       "      <td>7.444914</td>\n",
       "      <td>203.068746</td>\n",
       "      <td>25489.075026</td>\n",
       "      <td>8.175744</td>\n",
       "      <td>400.322434</td>\n",
       "      <td>405.420612</td>\n",
       "      <td>13.283100</td>\n",
       "      <td>74.412867</td>\n",
       "      <td>2.571392</td>\n",
       "    </tr>\n",
       "    <tr>\n",
       "      <th>601</th>\n",
       "      <td>7.080795</td>\n",
       "      <td>220.552524</td>\n",
       "      <td>28135.076838</td>\n",
       "      <td>7.978098</td>\n",
       "      <td>307.652451</td>\n",
       "      <td>421.464253</td>\n",
       "      <td>17.532298</td>\n",
       "      <td>86.848098</td>\n",
       "      <td>3.569570</td>\n",
       "    </tr>\n",
       "    <tr>\n",
       "      <th>2381</th>\n",
       "      <td>4.945695</td>\n",
       "      <td>170.440921</td>\n",
       "      <td>23000.723137</td>\n",
       "      <td>4.433725</td>\n",
       "      <td>340.645670</td>\n",
       "      <td>346.642267</td>\n",
       "      <td>13.276638</td>\n",
       "      <td>84.551081</td>\n",
       "      <td>3.782517</td>\n",
       "    </tr>\n",
       "    <tr>\n",
       "      <th>98</th>\n",
       "      <td>7.205559</td>\n",
       "      <td>120.327615</td>\n",
       "      <td>24627.867560</td>\n",
       "      <td>6.202469</td>\n",
       "      <td>289.768697</td>\n",
       "      <td>418.433290</td>\n",
       "      <td>13.643147</td>\n",
       "      <td>63.733732</td>\n",
       "      <td>3.710053</td>\n",
       "    </tr>\n",
       "  </tbody>\n",
       "</table>\n",
       "<p>656 rows × 9 columns</p>\n",
       "</div>"
      ],
      "text/plain": [
       "            ph    Hardness        Solids  Chloramines     Sulfate  \\\n",
       "2017  8.111953  217.266472  38184.469574     7.254122  311.910224   \n",
       "2533  6.768060  179.805992  23793.031358     5.332099  333.198191   \n",
       "589   7.080795  180.893036  17705.608616     6.223312  350.195253   \n",
       "482   7.705711  178.922858  18476.619166     8.226228  334.889911   \n",
       "2620  5.830542  165.467025  30021.257079     8.433097  334.397777   \n",
       "...        ...         ...           ...          ...         ...   \n",
       "2802  5.230454  152.094169  24790.724599     6.308730  388.998079   \n",
       "1120  7.444914  203.068746  25489.075026     8.175744  400.322434   \n",
       "601   7.080795  220.552524  28135.076838     7.978098  307.652451   \n",
       "2381  4.945695  170.440921  23000.723137     4.433725  340.645670   \n",
       "98    7.205559  120.327615  24627.867560     6.202469  289.768697   \n",
       "\n",
       "      Conductivity  Organic_carbon  Trihalomethanes  Turbidity  \n",
       "2017    281.069203       13.027921        78.582094   4.430750  \n",
       "2533    461.530446       13.557381        60.571241   4.145807  \n",
       "589     447.937123       10.461025        32.074863   3.999125  \n",
       "482     518.043369       10.638798        63.157489   3.861956  \n",
       "2620    494.154505       16.666613        69.580253   5.192117  \n",
       "...            ...             ...              ...        ...  \n",
       "2802    307.918075       12.594197        51.625213   3.695615  \n",
       "1120    405.420612       13.283100        74.412867   2.571392  \n",
       "601     421.464253       17.532298        86.848098   3.569570  \n",
       "2381    346.642267       13.276638        84.551081   3.782517  \n",
       "98      418.433290       13.643147        63.733732   3.710053  \n",
       "\n",
       "[656 rows x 9 columns]"
      ]
     },
     "execution_count": 38,
     "metadata": {},
     "output_type": "execute_result"
    }
   ],
   "source": [
    "X_test"
   ]
  },
  {
   "cell_type": "code",
   "execution_count": 29,
   "metadata": {},
   "outputs": [
    {
     "data": {
      "text/plain": [
       "2017    1\n",
       "2533    0\n",
       "589     0\n",
       "482     0\n",
       "2620    0\n",
       "       ..\n",
       "2802    1\n",
       "1120    1\n",
       "601     0\n",
       "2381    1\n",
       "98      0\n",
       "Name: Potability, Length: 656, dtype: int64"
      ]
     },
     "execution_count": 29,
     "metadata": {},
     "output_type": "execute_result"
    }
   ],
   "source": [
    "y_test"
   ]
  },
  {
   "cell_type": "code",
   "execution_count": 39,
   "metadata": {},
   "outputs": [
    {
     "data": {
      "text/plain": [
       "array([1, 0, 0, 0, 0, 0, 0, 1, 0, 0, 1, 1, 0, 1, 0, 0, 0, 0, 0, 0, 1, 0,\n",
       "       1, 0, 0, 1, 1, 0, 0, 0, 1, 0, 0, 0, 1, 0, 0, 0, 0, 0, 0, 0, 0, 1,\n",
       "       0, 0, 0, 0, 1, 1, 0, 0, 1, 0, 1, 0, 1, 1, 0, 0, 1, 0, 0, 1, 1, 0,\n",
       "       0, 0, 1, 1, 0, 1, 1, 1, 0, 0, 1, 1, 0, 0, 1, 1, 0, 0, 0, 0, 0, 0,\n",
       "       1, 1, 1, 0, 1, 0, 1, 0, 0, 1, 0, 0, 0, 0, 0, 0, 0, 0, 1, 0, 1, 0,\n",
       "       0, 0, 0, 0, 0, 1, 0, 0, 1, 0, 0, 0, 0, 0, 0, 1, 0, 1, 0, 0, 0, 1,\n",
       "       0, 0, 0, 1, 0, 0, 0, 0, 1, 0, 1, 0, 0, 0, 0, 0, 0, 0, 0, 0, 0, 1,\n",
       "       0, 0, 0, 0, 0, 1, 1, 0, 1, 1, 0, 1, 0, 0, 0, 1, 0, 1, 0, 0, 0, 0,\n",
       "       1, 1, 1, 0, 1, 0, 0, 1, 1, 0, 0, 1, 0, 0, 1, 0, 0, 0, 0, 0, 0, 1,\n",
       "       0, 1, 0, 1, 1, 0, 0, 0, 1, 1, 0, 1, 1, 1, 0, 0, 1, 0, 0, 0, 0, 0,\n",
       "       0, 1, 1, 1, 0, 0, 0, 1, 1, 0, 1, 0, 1, 1, 0, 0, 0, 1, 0, 0, 1, 0,\n",
       "       0, 0, 1, 0, 1, 1, 1, 1, 1, 0, 0, 1, 0, 0, 0, 1, 0, 1, 1, 0, 0, 1,\n",
       "       0, 0, 0, 0, 0, 0, 0, 0, 0, 1, 0, 1, 0, 1, 1, 0, 1, 1, 1, 0, 0, 1,\n",
       "       1, 0, 1, 1, 1, 0, 1, 0, 0, 1, 1, 1, 0, 1, 0, 0, 0, 1, 0, 1, 0, 0,\n",
       "       1, 0, 1, 1, 0, 0, 0, 1, 1, 0, 1, 0, 0, 0, 0, 1, 1, 1, 0, 1, 1, 0,\n",
       "       0, 0, 1, 1, 0, 0, 1, 0, 0, 1, 1, 0, 0, 0, 0, 1, 1, 1, 0, 1, 0, 0,\n",
       "       1, 1, 0, 0, 0, 1, 1, 0, 0, 0, 0, 0, 0, 0, 1, 1, 0, 0, 0, 1, 0, 0,\n",
       "       0, 0, 1, 1, 1, 1, 1, 0, 0, 1, 0, 0, 1, 0, 0, 0, 1, 0, 0, 1, 0, 0,\n",
       "       0, 1, 0, 0, 0, 0, 0, 1, 1, 0, 0, 0, 0, 0, 0, 0, 0, 0, 0, 1, 0, 0,\n",
       "       0, 1, 0, 1, 1, 1, 0, 1, 0, 0, 0, 1, 0, 0, 1, 0, 1, 1, 1, 1, 1, 0,\n",
       "       1, 0, 0, 0, 0, 1, 0, 0, 0, 0, 1, 0, 0, 0, 1, 1, 1, 1, 0, 0, 1, 0,\n",
       "       0, 0, 0, 0, 1, 0, 1, 0, 0, 1, 1, 0, 1, 0, 1, 0, 0, 0, 1, 0, 0, 0,\n",
       "       0, 0, 1, 0, 0, 1, 0, 0, 1, 0, 1, 1, 0, 0, 1, 1, 0, 1, 1, 1, 0, 0,\n",
       "       0, 0, 0, 1, 0, 1, 1, 0, 0, 0, 0, 0, 0, 0, 1, 0, 0, 1, 1, 1, 0, 0,\n",
       "       1, 0, 0, 1, 0, 1, 1, 1, 1, 1, 1, 0, 0, 0, 1, 0, 0, 0, 1, 1, 1, 0,\n",
       "       0, 1, 0, 0, 1, 0, 0, 0, 1, 0, 1, 0, 0, 0, 1, 1, 0, 0, 0, 1, 0, 1,\n",
       "       1, 0, 0, 0, 0, 1, 0, 0, 1, 0, 0, 0, 0, 0, 0, 1, 1, 1, 0, 0, 1, 0,\n",
       "       1, 0, 1, 1, 1, 1, 1, 0, 1, 0, 1, 1, 0, 0, 0, 0, 1, 1, 0, 0, 0, 0,\n",
       "       1, 1, 0, 0, 0, 1, 1, 0, 0, 0, 1, 0, 1, 0, 0, 1, 0, 0, 0, 0, 0, 0,\n",
       "       0, 0, 0, 0, 0, 1, 1, 0, 0, 1, 1, 0, 1, 1, 1, 0, 0, 1], dtype=int64)"
      ]
     },
     "execution_count": 39,
     "metadata": {},
     "output_type": "execute_result"
    }
   ],
   "source": [
    "df.predict(X_test)"
   ]
  },
  {
   "cell_type": "code",
   "execution_count": 31,
   "metadata": {},
   "outputs": [
    {
     "data": {
      "text/plain": [
       "DecisionTreeClassifier(min_samples_split=10)"
      ]
     },
     "execution_count": 31,
     "metadata": {},
     "output_type": "execute_result"
    }
   ],
   "source": [
    "from sklearn.metrics import accuracy_score,confusion_matrix,precision_score\n",
    "df=DecisionTreeClassifier(criterion= 'gini', min_samples_split= 10, splitter= 'best')\n",
    "df.fit(X_train,y_train)"
   ]
  },
  {
   "cell_type": "code",
   "execution_count": 32,
   "metadata": {},
   "outputs": [
    {
     "name": "stdout",
     "output_type": "stream",
     "text": [
      "Özelliklerin ağırlığı:\n",
      "\n",
      "[0.13214046 0.13165562 0.13143459 0.10163762 0.1193857  0.09970468\n",
      " 0.09359483 0.09573623 0.09471027]\n",
      "\n",
      "\n",
      "Ağırlık Toplamı:  1.0\n"
     ]
    }
   ],
   "source": [
    "print(\"Özelliklerin ağırlığı:\\n\\n{}\\n\\n\".format(df.feature_importances_))\n",
    "\n",
    "#Ağırlıkların toplamı 1'dir.\n",
    "\n",
    "print(\"Ağırlık Toplamı: \", df.feature_importances_.sum())"
   ]
  },
  {
   "cell_type": "markdown",
   "metadata": {},
   "source": [
    "* ### **<span id=\"4.1\" style=\"color:#5DADE2;\">4.1- Karar Ağacı Uygulaması ile Makine Öğrenmesi Sonuçları</span>**"
   ]
  },
  {
   "cell_type": "code",
   "execution_count": 33,
   "metadata": {
    "scrolled": true
   },
   "outputs": [
    {
     "data": {
      "text/plain": [
       "60.518292682926834"
      ]
     },
     "execution_count": 33,
     "metadata": {},
     "output_type": "execute_result"
    }
   ],
   "source": [
    "prediction=df.predict(X_test)\n",
    "accuracy_df=accuracy_score(y_test,prediction)*100\n",
    "accuracy_df"
   ]
  },
  {
   "cell_type": "code",
   "execution_count": 34,
   "metadata": {},
   "outputs": [
    {
     "name": "stdout",
     "output_type": "stream",
     "text": [
      "Eğitim Setinin Doğruluk Oranı;: 0.922\n",
      "Test Setinin Doğruluk Oranı: 0.605\n"
     ]
    }
   ],
   "source": [
    "print(\"Eğitim Setinin Doğruluk Oranı: {:.3f}\".format(df.score(X_train, y_train)))\n",
    "print(\"Test Setinin Doğruluk Oranı: {:.3f}\".format(df.score(X_test, y_test)))"
   ]
  },
  {
   "cell_type": "markdown",
   "metadata": {},
   "source": [
    "   * ##### **<span style=\"color:#F4D03F;\">Doğruluk değerlerinin 1'e yakın olmasını isteriz; 1'e çok yakın olmasa da fena bir skor değil. Genelde eğitim skoru ile test skorlarının da birbirine yakın olmasını isteriz. </span>**"
   ]
  },
  {
   "cell_type": "code",
   "execution_count": 35,
   "metadata": {
    "scrolled": false
   },
   "outputs": [
    {
     "data": {
      "text/plain": [
       "<matplotlib.axes._subplots.AxesSubplot at 0x1e4b0a946a0>"
      ]
     },
     "execution_count": 35,
     "metadata": {},
     "output_type": "execute_result"
    },
    {
     "data": {
      "image/png": "[encoded data removed]",
      "text/plain": [
       "<Figure size 1440x576 with 2 Axes>"
      ]
     },
     "metadata": {
      "needs_background": "light"
     },
     "output_type": "display_data"
    }
   ],
   "source": [
    "cf_matrix=confusion_matrix(prediction,y_test)\n",
    "sns.heatmap(cf_matrix/np.sum(cf_matrix), annot=True, \n",
    "            fmt='.2%', cmap='Blues')\n"
   ]
  },
  {
   "cell_type": "markdown",
   "metadata": {},
   "source": [
    "  # ↓ Confusion Matrix ↓"
   ]
  },
  {
   "attachments": {
    "matrix.png": {
     "image/png": "[encoded data removed]"
    }
   },
   "cell_type": "markdown",
   "metadata": {},
   "source": [
    "![matrix.png](attachment:matrix.png)"
   ]
  },
  {
   "cell_type": "markdown",
   "metadata": {},
   "source": [
    "* # **<span style=\"color:#DE3163 ;\">Dinlediğiniz için teşekkürler...</span>**"
   ]
  }
 ],
 "metadata": {
  "interpreter": {
   "hash": "898555d013329efc93200ad8645aaad66a325ecc860ae5e1c4a8025859ef0445"
  },
  "kernelspec": {
   "display_name": "Python 3.10.4 ('Bty')",
   "language": "python",
   "name": "python3"
  },
  "language_info": {
   "codemirror_mode": {
    "name": "ipython",
    "version": 3
   },
   "file_extension": ".py",
   "mimetype": "text/x-python",
   "name": "python",
   "nbconvert_exporter": "python",
   "pygments_lexer": "ipython3",
   "version": "3.10.4"
  }
 },
 "nbformat": 4,
 "nbformat_minor": 2
}
